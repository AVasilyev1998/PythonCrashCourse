{
 "cells": [
  {
   "cell_type": "markdown",
   "metadata": {},
   "source": [
    "# Лекция 3\n",
    "\n",
    "## Введение в Python"
   ]
  },
  {
   "cell_type": "markdown",
   "metadata": {},
   "source": [
    "## Повтор предыдущего материала"
   ]
  },
  {
   "cell_type": "code",
   "execution_count": 80,
   "metadata": {},
   "outputs": [],
   "source": [
    "# Что будет выведено?\n",
    "test_list = [ s.lower().rstrip(\"T\").strip(\"o\")\n",
    "    for s \n",
    "    in [\n",
    "        \"Topic\",\n",
    "        \"tattoo\",\n",
    "        \"TORCH\",\n",
    "        \"Oregano\",\n",
    "        \"coriander\"\n",
    "    ]\n",
    "]"
   ]
  },
  {
   "cell_type": "code",
   "execution_count": 81,
   "metadata": {},
   "outputs": [],
   "source": [
    "# При создании словаря в ключе была допущена ошибка, требуется к каждому элементу ключа добавить 10\n",
    "test_dict = {\n",
    "    (1,2,3): \"Hello world!\"\n",
    "}"
   ]
  },
  {
   "cell_type": "code",
   "execution_count": 82,
   "metadata": {},
   "outputs": [
    {
     "data": {
      "text/plain": [
       "{(1,), 0, 1, '1'}"
      ]
     },
     "execution_count": 82,
     "metadata": {},
     "output_type": "execute_result"
    }
   ],
   "source": [
    "# Что будет выведено?\n",
    "test_set = {1, 1.0, bool(1), '1', 1-1, (1,)}\n",
    "test_set"
   ]
  },
  {
   "cell_type": "markdown",
   "metadata": {},
   "source": [
    "Сформировать из кортежа словарей один словарь по следующим правилам:\n",
    "\n",
    "1. Каждый ключ каждого словаря должен присутствовать в результирующем словаре\n",
    "2. Значение ключа равно значениям в исходных словарях\n",
    "3. Если ключи в словарях повторяются, то брать значение из словаря с большим индексом"
   ]
  },
  {
   "cell_type": "code",
   "execution_count": 83,
   "metadata": {},
   "outputs": [],
   "source": [
    "# Из ДЗ2 №3\n",
    "\n",
    "source_n3 = ({\n",
    "    \"A\":123123,\n",
    "    \"B\":123,\n",
    "    \"C\":444,\n",
    "    \"D\":3233\n",
    "},{\n",
    "    \"A\": 3323,\n",
    "    \"E\": 13755,\n",
    "    \"S\": 125,\n",
    "    \"R\": 1997,\n",
    "    \"X\": 665\n",
    "},{\n",
    "    \"D\": 1865,\n",
    "    \"W\": 8753,\n",
    "    \"Q\": 872,\n",
    "    \"S\": 126,\n",
    "    \"B\": 1231\n",
    "})\n",
    "# source_n3 -> test_dict\n",
    "test_dict = {'A': 3323,\n",
    " 'B': 1231,\n",
    " 'C': 444,\n",
    " 'D': 1865,\n",
    " 'E': 13755,\n",
    " 'S': 126,\n",
    " 'R': 1997,\n",
    " 'X': 665,\n",
    " 'W': 8753,\n",
    " 'Q': 872}\n"
   ]
  },
  {
   "cell_type": "code",
   "execution_count": 84,
   "metadata": {},
   "outputs": [],
   "source": [
    "res_n3 = {}\n",
    "\n",
    "# Предполагаемое решение\n",
    "for item in source_n3:\n",
    "    for k,v in item.items():\n",
    "        res_n3[k] = v\n",
    "\n",
    "assert res_n3 == test_dict"
   ]
  },
  {
   "cell_type": "code",
   "execution_count": 85,
   "metadata": {},
   "outputs": [],
   "source": [
    "res_n3_1 = {}\n",
    "\n",
    "for item in source_n3:\n",
    "    res_n3_1.update(item)\n",
    "    \n",
    "assert res_n3_1 == test_dict"
   ]
  },
  {
   "cell_type": "markdown",
   "metadata": {},
   "source": [
    "## Args и kwargs"
   ]
  },
  {
   "cell_type": "code",
   "execution_count": 86,
   "metadata": {},
   "outputs": [
    {
     "data": {
      "text/plain": [
       "24"
      ]
     },
     "execution_count": 86,
     "metadata": {},
     "output_type": "execute_result"
    }
   ],
   "source": [
    "def mult(a,b,c):\n",
    "    return a*b*c\n",
    "\n",
    "args_arr = [2,3,4]\n",
    "\n",
    "# mult(2,3,4)\n",
    "mult(*args_arr)"
   ]
  },
  {
   "cell_type": "code",
   "execution_count": 87,
   "metadata": {},
   "outputs": [
    {
     "data": {
      "text/plain": [
       "24"
      ]
     },
     "execution_count": 87,
     "metadata": {},
     "output_type": "execute_result"
    }
   ],
   "source": [
    "kwargs_dict = {\"a\":2, \"b\":3, \"c\":4}\n",
    "# kwargs_dict = {\"a\":2, \"b\":3, \"c\":4, \"d\":5}\n",
    "\n",
    "# mult(a=2, b=3, c=4)\n",
    "mult(**kwargs_dict)\n"
   ]
  },
  {
   "cell_type": "code",
   "execution_count": 88,
   "metadata": {},
   "outputs": [
    {
     "name": "stdout",
     "output_type": "stream",
     "text": [
      "[2, 3, 4]\n",
      "(2, 3, 4)\n",
      "(1, 2, 23, 4, 5, 6)\n"
     ]
    },
    {
     "data": {
      "text/plain": [
       "41"
      ]
     },
     "execution_count": 88,
     "metadata": {},
     "output_type": "execute_result"
    }
   ],
   "source": [
    "print(args_arr)\n",
    "\n",
    "def args_not_kwargs(*args):\n",
    "    print(args)\n",
    "    return sum(args)\n",
    "args_not_kwargs(*args_arr)\n",
    "args_not_kwargs(1,2,23,4,5,6)\n"
   ]
  },
  {
   "cell_type": "code",
   "execution_count": 89,
   "metadata": {},
   "outputs": [
    {
     "name": "stdout",
     "output_type": "stream",
     "text": [
      "{'a': 2, 'b': 3, 'c': 4}\n"
     ]
    },
    {
     "ename": "TypeError",
     "evalue": "args_not_kwargs() got an unexpected keyword argument 'a'",
     "output_type": "error",
     "traceback": [
      "\u001b[0;31m---------------------------------------------------------------------------\u001b[0m",
      "\u001b[0;31mTypeError\u001b[0m                                 Traceback (most recent call last)",
      "\u001b[0;32m<ipython-input-89-60f75f667fbd>\u001b[0m in \u001b[0;36m<module>\u001b[0;34m\u001b[0m\n\u001b[1;32m      2\u001b[0m \u001b[0;34m\u001b[0m\u001b[0m\n\u001b[1;32m      3\u001b[0m \u001b[0;31m# Нет именованных параметров\u001b[0m\u001b[0;34m\u001b[0m\u001b[0;34m\u001b[0m\u001b[0;34m\u001b[0m\u001b[0m\n\u001b[0;32m----> 4\u001b[0;31m \u001b[0margs_not_kwargs\u001b[0m\u001b[0;34m(\u001b[0m\u001b[0;34m**\u001b[0m\u001b[0mkwargs_dict\u001b[0m\u001b[0;34m)\u001b[0m \u001b[0;31m# :(\u001b[0m\u001b[0;34m\u001b[0m\u001b[0;34m\u001b[0m\u001b[0m\n\u001b[0m",
      "\u001b[0;31mTypeError\u001b[0m: args_not_kwargs() got an unexpected keyword argument 'a'"
     ]
    }
   ],
   "source": [
    "print(kwargs_dict)\n",
    "\n",
    "# Нет именованных параметров\n",
    "args_not_kwargs(**kwargs_dict) # :("
   ]
  },
  {
   "cell_type": "code",
   "execution_count": 90,
   "metadata": {},
   "outputs": [
    {
     "name": "stdout",
     "output_type": "stream",
     "text": [
      "[2, 3, 4]\n",
      "{'a': 2, 'b': 3, 'c': 4}\n",
      "(1, 2, 3, 4, 2, 3, 4) {'test': 10, 'test_2': 20, 'a': 2, 'b': 3, 'c': 4}\n"
     ]
    },
    {
     "data": {
      "text/plain": [
       "1"
      ]
     },
     "execution_count": 90,
     "metadata": {},
     "output_type": "execute_result"
    }
   ],
   "source": [
    "print(args_arr)\n",
    "print(kwargs_dict)\n",
    "\n",
    "\n",
    "def func_accept_all(*args, **kwargs):\n",
    "    print(args, kwargs)\n",
    "    return 1\n",
    "func_accept_all(1,2,3,4,*args_arr, test=10,test_2=20, **kwargs_dict)"
   ]
  },
  {
   "cell_type": "code",
   "execution_count": 91,
   "metadata": {},
   "outputs": [
    {
     "name": "stdout",
     "output_type": "stream",
     "text": [
      "{'a': 2, 'b': 3, 'c': 4}\n"
     ]
    },
    {
     "ename": "TypeError",
     "evalue": "func_with_duplicating_params() got multiple values for argument 'a'",
     "output_type": "error",
     "traceback": [
      "\u001b[0;31m---------------------------------------------------------------------------\u001b[0m",
      "\u001b[0;31mTypeError\u001b[0m                                 Traceback (most recent call last)",
      "\u001b[0;32m<ipython-input-91-1712c9a74021>\u001b[0m in \u001b[0;36m<module>\u001b[0;34m\u001b[0m\n\u001b[1;32m      5\u001b[0m     \u001b[0;32mreturn\u001b[0m \u001b[0;36m1\u001b[0m\u001b[0;34m\u001b[0m\u001b[0;34m\u001b[0m\u001b[0m\n\u001b[1;32m      6\u001b[0m \u001b[0;34m\u001b[0m\u001b[0m\n\u001b[0;32m----> 7\u001b[0;31m \u001b[0mfunc_with_duplicating_params\u001b[0m\u001b[0;34m(\u001b[0m\u001b[0;36m1\u001b[0m\u001b[0;34m,\u001b[0m \u001b[0;34m**\u001b[0m\u001b[0mkwargs_dict\u001b[0m\u001b[0;34m)\u001b[0m\u001b[0;34m\u001b[0m\u001b[0;34m\u001b[0m\u001b[0m\n\u001b[0m",
      "\u001b[0;31mTypeError\u001b[0m: func_with_duplicating_params() got multiple values for argument 'a'"
     ]
    }
   ],
   "source": [
    "print(kwargs_dict)\n",
    "\n",
    "def func_with_duplicating_params(a, **kwargs):\n",
    "    print(a, kwargs)\n",
    "    return 1\n",
    "\n",
    "func_with_duplicating_params(1, **kwargs_dict)"
   ]
  },
  {
   "cell_type": "markdown",
   "metadata": {},
   "source": [
    "## Генераторы"
   ]
  },
  {
   "cell_type": "code",
   "execution_count": 92,
   "metadata": {},
   "outputs": [],
   "source": [
    "# Пример генератора\n",
    "def test_generator(string):\n",
    "    str_to_return = sorted(string.upper())\n",
    "    for char in str_to_return:\n",
    "        if char !=\" \":\n",
    "            yield char"
   ]
  },
  {
   "cell_type": "code",
   "execution_count": 93,
   "metadata": {},
   "outputs": [
    {
     "name": "stdout",
     "output_type": "stream",
     "text": [
      ", А А А А В В Е И И Й К К К К Л Л Л Н Н О О О П С С С Т Т Т Т У Ч Ш Ы Ь Я Я "
     ]
    }
   ],
   "source": [
    "for i in test_generator('Я счастливый как никто, сотку я нашел в пальто'):\n",
    "    print(i, end=\" \")"
   ]
  },
  {
   "cell_type": "code",
   "execution_count": 94,
   "metadata": {},
   "outputs": [
    {
     "name": "stdout",
     "output_type": "stream",
     "text": [
      "<generator object test_generator at 0x7f2c7c88b970>\n"
     ]
    },
    {
     "data": {
      "text/plain": [
       "'1'"
      ]
     },
     "execution_count": 94,
     "metadata": {},
     "output_type": "execute_result"
    }
   ],
   "source": [
    "test_gen = test_generator('123123123')\n",
    "print(test_gen)\n",
    "next(test_gen)"
   ]
  },
  {
   "cell_type": "code",
   "execution_count": 95,
   "metadata": {},
   "outputs": [
    {
     "name": "stdout",
     "output_type": "stream",
     "text": [
      "11222333"
     ]
    }
   ],
   "source": [
    "for i in test_gen:\n",
    "    print(i, end=\"\")"
   ]
  },
  {
   "cell_type": "code",
   "execution_count": 96,
   "metadata": {},
   "outputs": [
    {
     "name": "stdout",
     "output_type": "stream",
     "text": [
      "<generator object test_generator at 0x7f2c7c88b970>\n"
     ]
    },
    {
     "ename": "StopIteration",
     "evalue": "",
     "output_type": "error",
     "traceback": [
      "\u001b[0;31m---------------------------------------------------------------------------\u001b[0m",
      "\u001b[0;31mStopIteration\u001b[0m                             Traceback (most recent call last)",
      "\u001b[0;32m<ipython-input-96-670d6a6cbd2d>\u001b[0m in \u001b[0;36m<module>\u001b[0;34m\u001b[0m\n\u001b[1;32m      1\u001b[0m \u001b[0;31m# Ошибка, тк генератор закончил работу\u001b[0m\u001b[0;34m\u001b[0m\u001b[0;34m\u001b[0m\u001b[0;34m\u001b[0m\u001b[0m\n\u001b[1;32m      2\u001b[0m \u001b[0mprint\u001b[0m\u001b[0;34m(\u001b[0m\u001b[0mtest_gen\u001b[0m\u001b[0;34m)\u001b[0m\u001b[0;34m\u001b[0m\u001b[0;34m\u001b[0m\u001b[0m\n\u001b[0;32m----> 3\u001b[0;31m \u001b[0mnext\u001b[0m\u001b[0;34m(\u001b[0m\u001b[0mtest_gen\u001b[0m\u001b[0;34m)\u001b[0m\u001b[0;34m\u001b[0m\u001b[0;34m\u001b[0m\u001b[0m\n\u001b[0m",
      "\u001b[0;31mStopIteration\u001b[0m: "
     ]
    }
   ],
   "source": [
    "# Ошибка, тк генератор закончил работу\n",
    "print(test_gen)\n",
    "next(test_gen)"
   ]
  },
  {
   "cell_type": "markdown",
   "metadata": {},
   "source": [
    "TODO: написать генератор, возвращающий четные числа в интервале [0, 100]"
   ]
  },
  {
   "cell_type": "code",
   "execution_count": 97,
   "metadata": {},
   "outputs": [],
   "source": [
    "def quick_task_gen():\n",
    "    pass"
   ]
  },
  {
   "cell_type": "markdown",
   "metadata": {},
   "source": [
    "## Декораторы"
   ]
  },
  {
   "cell_type": "code",
   "execution_count": 101,
   "metadata": {},
   "outputs": [],
   "source": [
    "# Простая функция для теста декоратора\n",
    "def test_hello_world(string=\"Hello world!\"):\n",
    "    print(string)\n",
    "    return \"Hello students!\""
   ]
  },
  {
   "cell_type": "code",
   "execution_count": 102,
   "metadata": {},
   "outputs": [],
   "source": [
    "# Псевдодекоратор\n",
    "def pseudo_decorator_func(before=1, after=2):\n",
    "    print(\"Im decorating test_hello_world before\", before)\n",
    "    test_hello_world()\n",
    "    print(\"Im decorating test_hello_world after\", after)"
   ]
  },
  {
   "cell_type": "code",
   "execution_count": 105,
   "metadata": {},
   "outputs": [
    {
     "name": "stdout",
     "output_type": "stream",
     "text": [
      "Hello world!\n",
      "\n",
      "Im decorating test_hello_world before 1\n",
      "Hello world!\n",
      "Im decorating test_hello_world after 2\n"
     ]
    }
   ],
   "source": [
    "test_hello_world()\n",
    "print(\"\")\n",
    "pseudo_decorator_func()"
   ]
  },
  {
   "cell_type": "code",
   "execution_count": 106,
   "metadata": {},
   "outputs": [],
   "source": [
    "# Декоратор (ну почти)\n",
    "def decorator_without_args(func):\n",
    "    def wrapper(before=1, after=2):\n",
    "        print(\"Im decorating some func before\", before)\n",
    "        func()\n",
    "        print(\"Im decorating some func after\", after)\n",
    "    return wrapper"
   ]
  },
  {
   "cell_type": "code",
   "execution_count": 110,
   "metadata": {},
   "outputs": [
    {
     "name": "stdout",
     "output_type": "stream",
     "text": [
      "\n",
      "Hello world!\n"
     ]
    }
   ],
   "source": [
    "# @decorator_without_args\n",
    "# @decorator_with_args\n",
    "def test_hello_world_2(string=\"Hello world!\"):\n",
    "    print(string)\n",
    "    return \"Im decorated!!!\"\n",
    "\n",
    "# dec_func = decorator_without_args(test_hello_world_2)\n",
    "# dec_func()\n",
    "\n",
    "# dec_func = test_hello_world_2\n",
    "print(\"\")\n",
    "test_res = test_hello_world_2()\n",
    "# print(\"RES\", test_res)"
   ]
  },
  {
   "cell_type": "code",
   "execution_count": 111,
   "metadata": {},
   "outputs": [],
   "source": [
    "# Наконец нормальный декоратор\n",
    "def decorator_with_args(func):\n",
    "    def wrapper(*args, **kwargs):\n",
    "        print(\"Im decorating some func before\", kwargs.get(\"before\", \"no_before_argument\"))\n",
    "        res = func(*args, **kwargs)\n",
    "        print(\"Im decorating some func after\",  kwargs.get(\"after\", \"no_after_argument\"))\n",
    "        return res\n",
    "    return wrapper"
   ]
  },
  {
   "cell_type": "code",
   "execution_count": 112,
   "metadata": {},
   "outputs": [],
   "source": [
    "# декоратор с параметром - количество повторений строк перед и после\n",
    "def decorator_factory(kol):\n",
    "    def decorator_with_args(func):\n",
    "        def wrapper(*args, **kwargs):\n",
    "            for i in range(kol):\n",
    "                print(\"Im decorating some func before\", kwargs.get(\"before\", \"no_before_argument\"))\n",
    "            res = func(*args, **kwargs)\n",
    "            for i in range(kol):\n",
    "                print(\"Im decorating some func after\",  kwargs.get(\"after\", \"no_after_argument\"))\n",
    "            return res\n",
    "        return wrapper\n",
    "    return decorator_with_args"
   ]
  },
  {
   "cell_type": "code",
   "execution_count": 116,
   "metadata": {},
   "outputs": [
    {
     "name": "stdout",
     "output_type": "stream",
     "text": [
      "Im decorating some func before no_before_argument\n",
      "Im decorating some func before no_before_argument\n",
      "Im decorating some func before no_before_argument\n",
      "Im decorating some func after no_after_argument\n",
      "Im decorating some func after no_after_argument\n",
      "Im decorating some func after no_after_argument\n"
     ]
    },
    {
     "data": {
      "text/plain": [
       "3"
      ]
     },
     "execution_count": 116,
     "metadata": {},
     "output_type": "execute_result"
    }
   ],
   "source": [
    "@decorator_factory(3)  # kol = 3 \n",
    "def func(a, b):\n",
    "    return a+b\n",
    "\n",
    "func(1, 2)"
   ]
  },
  {
   "cell_type": "code",
   "execution_count": null,
   "metadata": {},
   "outputs": [],
   "source": []
  },
  {
   "cell_type": "markdown",
   "metadata": {},
   "source": [
    "## Рекурсия\n",
    "Рекурсивная функция - функция, вызывающая сама себя (с определенным условием выхода)"
   ]
  },
  {
   "cell_type": "code",
   "execution_count": 49,
   "metadata": {},
   "outputs": [],
   "source": [
    "# Рассчет числа Фибоначчи\n",
    "\n",
    "# Последовательность Фибоначчи\n",
    "# 1  2  3  4  5  6   7   8   9\n",
    "# 1, 1, 2, 3, 5, 8, 13, 21, 34 ... \n",
    "def fibo_n_number(n):\n",
    "    if n > 2:\n",
    "        return fibo_n_number(n-1)+fibo_n_number(n-2)\n",
    "    return 1"
   ]
  },
  {
   "cell_type": "code",
   "execution_count": 51,
   "metadata": {},
   "outputs": [
    {
     "data": {
      "text/plain": [
       "55"
      ]
     },
     "execution_count": 51,
     "metadata": {},
     "output_type": "execute_result"
    }
   ],
   "source": [
    "fibo_n_number(10)"
   ]
  },
  {
   "attachments": {
    "Screenshot%202020-10-31%20at%2013.32.07.png": {
     "image/png": "[encoded data removed]"
    }
   },
   "cell_type": "markdown",
   "metadata": {},
   "source": [
    "![Screenshot%202020-10-31%20at%2013.32.07.png](attachment:Screenshot%202020-10-31%20at%2013.32.07.png)"
   ]
  },
  {
   "cell_type": "code",
   "execution_count": 32,
   "metadata": {},
   "outputs": [
    {
     "data": {
      "text/plain": [
       "5"
      ]
     },
     "execution_count": 32,
     "metadata": {},
     "output_type": "execute_result"
    }
   ],
   "source": [
    "def fibo_number_formula(n):\n",
    "    sqrt_5 = 5**0.5\n",
    "    return int(((1/2+sqrt_5/2)**n - (1/2-sqrt_5/2)**n )/sqrt_5)\n",
    "\n",
    "fibo_number_formula(5)\n",
    "\n",
    "# ДОПОЛНЕНИЕ К ДЗ: сравнить время выполнения этих функций"
   ]
  },
  {
   "cell_type": "markdown",
   "metadata": {},
   "source": [
    "## Map, zip, filter, lambda"
   ]
  },
  {
   "cell_type": "code",
   "execution_count": 33,
   "metadata": {},
   "outputs": [],
   "source": [
    "test_arr = [1,2,3,4,5,6,7,8,9,10]"
   ]
  },
  {
   "cell_type": "markdown",
   "metadata": {},
   "source": [
    "### Map\n",
    "\n",
    "Применить функцию к каждому элементу массива"
   ]
  },
  {
   "cell_type": "code",
   "execution_count": 34,
   "metadata": {},
   "outputs": [
    {
     "data": {
      "text/plain": [
       "[1, 8, 27, 64, 125, 216, 343, 512, 729, 1000]"
      ]
     },
     "execution_count": 34,
     "metadata": {},
     "output_type": "execute_result"
    }
   ],
   "source": [
    "# С использованием функции\n",
    "def cube(a):\n",
    "    return a**3\n",
    "\n",
    "list(map(cube, test_arr))"
   ]
  },
  {
   "cell_type": "code",
   "execution_count": 35,
   "metadata": {},
   "outputs": [
    {
     "data": {
      "text/plain": [
       "[1, 8, 27, 64, 125, 216, 343, 512, 729, 1000]"
      ]
     },
     "execution_count": 35,
     "metadata": {},
     "output_type": "execute_result"
    }
   ],
   "source": [
    "# С использованием лямбда (неименованной) функции\n",
    "list(map(lambda x: x**3, test_arr))"
   ]
  },
  {
   "cell_type": "markdown",
   "metadata": {},
   "source": [
    "### Filter\n",
    "\n",
    "Отфильтровать массив по условию"
   ]
  },
  {
   "cell_type": "code",
   "execution_count": 36,
   "metadata": {},
   "outputs": [
    {
     "data": {
      "text/plain": [
       "[1, 3, 5, 7, 9]"
      ]
     },
     "execution_count": 36,
     "metadata": {},
     "output_type": "execute_result"
    }
   ],
   "source": [
    "# С использованием лямбда (неименованной) функции\n",
    "list(filter(lambda x: x%2, test_arr))"
   ]
  },
  {
   "cell_type": "markdown",
   "metadata": {},
   "source": [
    "### Zip\n",
    "Соединяет два и более массивов, получая массив кортежей"
   ]
  },
  {
   "cell_type": "code",
   "execution_count": 37,
   "metadata": {},
   "outputs": [
    {
     "data": {
      "text/plain": [
       "[(0, '0', '0'),\n",
       " (1, '1', '1'),\n",
       " (2, '2', '2'),\n",
       " (3, '3', '0'),\n",
       " (4, '4', '1'),\n",
       " (5, '5', '2'),\n",
       " (6, '6', '0'),\n",
       " (7, '7', '1'),\n",
       " (8, '8', '2'),\n",
       " (9, '9', '0')]"
      ]
     },
     "execution_count": 37,
     "metadata": {},
     "output_type": "execute_result"
    }
   ],
   "source": [
    "test_list_1 = [i for i in range(10)]\n",
    "test_list_2 = [str(i)  for i in test_list_1]\n",
    "test_list_3 = [str(i%3)  for i in test_list_1]\n",
    "\n",
    "list(zip(test_list_1, test_list_2, test_list_3))"
   ]
  },
  {
   "cell_type": "code",
   "execution_count": 38,
   "metadata": {},
   "outputs": [
    {
     "name": "stdout",
     "output_type": "stream",
     "text": [
      "0 0 0\n",
      "1 1 1\n",
      "2 2 2\n",
      "3 3 0\n",
      "4 4 1\n",
      "5 5 2\n",
      "6 6 0\n",
      "7 7 1\n",
      "8 8 2\n",
      "9 9 0\n"
     ]
    }
   ],
   "source": [
    "# Зачем зипа мне нада\n",
    "for i,j,k in zip(test_list_1, test_list_2, test_list_3):\n",
    "    print(i,j,k)"
   ]
  },
  {
   "cell_type": "markdown",
   "metadata": {},
   "source": [
    "## Работа с файлами, менеждеры контекста\n"
   ]
  },
  {
   "cell_type": "markdown",
   "metadata": {},
   "source": [
    "### Работа с файлами\n",
    "\n",
    "Ключи:\n",
    "1. \"r\" - чтение\n",
    "2. \"w\" - запись, если файла не существует, создается новый.\n",
    "3. \"x\" - открытие на запись, если файла не существует, иначе исключение.\n",
    "4. \"a\" - дозапись (файл открывается на запись, но коретка ставится в конец файла)\n",
    "5. \"+\" - открытие на чтение и запись"
   ]
  },
  {
   "cell_type": "code",
   "execution_count": 39,
   "metadata": {},
   "outputs": [
    {
     "data": {
      "text/plain": [
       "'Row1\\nRow2\\nRow3'"
      ]
     },
     "execution_count": 39,
     "metadata": {},
     "output_type": "execute_result"
    }
   ],
   "source": [
    "file = open('DZ_materials/Lecture_3/test_file_to_read.txt', 'r')\n",
    "file_string = file.read()\n",
    "file.close()\n",
    "\n",
    "file_string"
   ]
  },
  {
   "cell_type": "code",
   "execution_count": 40,
   "metadata": {},
   "outputs": [
    {
     "data": {
      "text/plain": [
       "['Row1\\n', 'Row2\\n', 'Row3']"
      ]
     },
     "execution_count": 40,
     "metadata": {},
     "output_type": "execute_result"
    }
   ],
   "source": [
    "file = open('DZ_materials/Lecture_3/test_file_to_read.txt', 'r')\n",
    "file_row_array = file.readlines()\n",
    "file.close()\n",
    "\n",
    "file_row_array"
   ]
  },
  {
   "cell_type": "code",
   "execution_count": 41,
   "metadata": {},
   "outputs": [
    {
     "data": {
      "text/plain": [
       "b'Written row\\n'"
      ]
     },
     "execution_count": 41,
     "metadata": {},
     "output_type": "execute_result"
    }
   ],
   "source": [
    "file = open('DZ_materials/Lecture_3/test_file_to_write.txt', 'w')\n",
    "file.write(\"Written row\\n\")\n",
    "file.close()\n",
    "\n",
    "file = open('DZ_materials/Lecture_3/test_file_to_write.txt', 'rb')\n",
    "file_string = file.read()\n",
    "file.close()\n",
    "\n",
    "file_string"
   ]
  },
  {
   "cell_type": "markdown",
   "metadata": {},
   "source": [
    "### Менеджеры контекста"
   ]
  },
  {
   "cell_type": "code",
   "execution_count": 42,
   "metadata": {},
   "outputs": [
    {
     "data": {
      "text/plain": [
       "'Written row with context manager\\n'"
      ]
     },
     "execution_count": 42,
     "metadata": {},
     "output_type": "execute_result"
    }
   ],
   "source": [
    "with open('DZ_materials/Lecture_3/test_file_to_write.txt', 'w') as f:\n",
    "    # Файл открылся\n",
    "    f.write(\"Written row with context manager\\n\")\n",
    "# Файл закрылся\n",
    "\n",
    "with open('DZ_materials/Lecture_3/test_file_to_write.txt', 'r') as f:\n",
    "    # Файл открылся\n",
    "    file_string = f.read()\n",
    "# Файл закрылся\n",
    "file_string\n",
    "\n"
   ]
  },
  {
   "cell_type": "markdown",
   "metadata": {},
   "source": [
    "## ДЗ"
   ]
  },
  {
   "cell_type": "markdown",
   "metadata": {},
   "source": [
    "## 1] Вывод дерева директории (*)\n",
    "Разработать функцию вывода директории в виде дерева (путь до директории подается в качестве входного параметра функции). При этом сначала выводятся все папки директории, затем все файлы. Напротив папок ставить знак `(d)`. \n",
    "\n",
    "В процессе выполнения задачи следует разобраться в модуле `os`, научиться с ним работать\n",
    "(ссылка на документацию для более глубокого изучения: https://docs.python.org/3/library/os.html).\n",
    "    \n",
    "Пример вывода программы:\n",
    "```\n",
    ".\n",
    "├── maven_repos (d)\n",
    "├── release (d)\n",
    "│   ├── release_d1 (d)\n",
    "│   │   └── release_d1_f1.txt\n",
    "│   ├── release_f1.txt\n",
    "│   └── release_f2\n",
    "├── svn (d)\n",
    "│   ├── svn_d1 (d)\n",
    "│   ├── svn_d2 (d)\n",
    "│   └── svn_f1.txt\n",
    "└── file_1.txt\n",
    "```"
   ]
  },
  {
   "cell_type": "markdown",
   "metadata": {},
   "source": [
    "## 2] Реализация идемпотентного прохода по множеству\n",
    "Идемпотентность - свойство объекта или операции при повторном применении операции к объекту давать тот же результат, что и при первом (https://ru.wikipedia.org/wiki/%D0%98%D0%B4%D0%B5%D0%BC%D0%BF%D0%BE%D1%82%D0%B5%D0%BD%D1%82%D0%BD%D0%BE%D1%81%D1%82%D1%8C).\n",
    "\n",
    "Как мы знаем из прошлой лекции множество - неупорядоченная коллекция. Реализовать генератор, который получает множество и выводит его всегда в определенном порядке.\n",
    "\n",
    "### (Чет оно само робит)"
   ]
  },
  {
   "cell_type": "code",
   "execution_count": 43,
   "metadata": {},
   "outputs": [],
   "source": [
    "test_set = {1,'2',3,4,'25',-6,bool(7),8}\n",
    "\n",
    "def test_generator(_set):\n",
    "    return _set\n"
   ]
  },
  {
   "cell_type": "code",
   "execution_count": 44,
   "metadata": {},
   "outputs": [],
   "source": [
    "for i in range(100):\n",
    "    a = [j for j in test_generator(test_set)]\n",
    "    b = [k for k in test_generator(test_set)]\n",
    "    assert a==b"
   ]
  },
  {
   "cell_type": "markdown",
   "metadata": {},
   "source": [
    "## 3] Создать генератор случайной неубывающей последовательности чисел\n",
    "Разобраться в модуле `random`, реализовать генератор, принимающий 3 параметра: длину последовательности, минимальное значение выходных чисел, максимальное значение выходных чисел. Для минимального и максимального параметра задать значения по умолчанию `[0,100)`\n",
    "(Использовать random_seed для возможности повторения результата)"
   ]
  },
  {
   "cell_type": "markdown",
   "metadata": {},
   "source": [
    "## 4] Написать декоратор, считающий время выполнения функции\n",
    "Составить декоратор, который выводит в консоль время выполнения декорируемой функции ( (*) выводить в консоль также название функции)"
   ]
  },
  {
   "cell_type": "markdown",
   "metadata": {},
   "source": [
    "## 5] Написать функцию записи в файл\n",
    "Создать функцию, которая записывает принимает сообщение на вход строку. Функция дописывает в файл с указанием времени"
   ]
  },
  {
   "cell_type": "code",
   "execution_count": null,
   "metadata": {},
   "outputs": [],
   "source": []
  }
 ],
 "metadata": {
  "kernelspec": {
   "display_name": "Python 3",
   "language": "python",
   "name": "python3"
  },
  "language_info": {
   "codemirror_mode": {
    "name": "ipython",
    "version": 3
   },
   "file_extension": ".py",
   "mimetype": "text/x-python",
   "name": "python",
   "nbconvert_exporter": "python",
   "pygments_lexer": "ipython3",
   "version": "3.8.6"
  }
 },
 "nbformat": 4,
 "nbformat_minor": 4
}
