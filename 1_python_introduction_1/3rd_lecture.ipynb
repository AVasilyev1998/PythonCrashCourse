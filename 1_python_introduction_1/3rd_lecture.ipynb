{
 "cells": [
  {
   "cell_type": "markdown",
   "metadata": {},
   "source": [
    "# Лекция 3\n",
    "\n",
    "## Введение в Python"
   ]
  },
  {
   "cell_type": "markdown",
   "metadata": {},
   "source": [
    "## Повтор предыдущего материала"
   ]
  },
  {
   "cell_type": "code",
   "execution_count": 40,
   "metadata": {},
   "outputs": [
    {
     "data": {
      "text/plain": [
       "['topic', 'tatt', 'torch', 'regan', 'coriander']"
      ]
     },
     "execution_count": 40,
     "metadata": {},
     "output_type": "execute_result"
    }
   ],
   "source": [
    "# Что будет выведено?\n",
    "test_list = [ s.lower().rstrip(\"T\").strip(\"o\")\n",
    "    for s \n",
    "    in [\n",
    "        \"Topic\",\n",
    "        \"tattoo\",\n",
    "        \"TORCH\",\n",
    "        \"Oregano\",\n",
    "        \"coriander\"\n",
    "    ]\n",
    "]"
   ]
  },
  {
   "cell_type": "code",
   "execution_count": 28,
   "metadata": {},
   "outputs": [
    {
     "data": {
      "text/plain": [
       "'test'"
      ]
     },
     "execution_count": 28,
     "metadata": {},
     "output_type": "execute_result"
    }
   ],
   "source": [
    "# При создании словаря в ключе была допущена ошибка, требуется к каждому элементу ключа добавить 10\n",
    "test_dict = {\n",
    "    (1,2,3): \"Hello world!\"\n",
    "}"
   ]
  },
  {
   "cell_type": "code",
   "execution_count": 38,
   "metadata": {},
   "outputs": [
    {
     "data": {
      "text/plain": [
       "{(1,), 0, 1, '1'}"
      ]
     },
     "execution_count": 38,
     "metadata": {},
     "output_type": "execute_result"
    }
   ],
   "source": [
    "# Что будет выведено?\n",
    "test_set = {1, 1.0, bool(1), '1', 1-1, (1,)}\n",
    "test_set"
   ]
  },
  {
   "cell_type": "markdown",
   "metadata": {},
   "source": [
    "Сформировать из кортежа словарей один словарь по следующим правилам:\n",
    "\n",
    "1. Каждый ключ каждого словаря должен присутствовать в результирующем словаре\n",
    "2. Значение ключа равно значениям в исходных словарях\n",
    "3. Если ключи в словарях повторяются, то брать значение из словаря с большим индексом"
   ]
  },
  {
   "cell_type": "code",
   "execution_count": 42,
   "metadata": {},
   "outputs": [],
   "source": [
    "# Из ДЗ2 №3\n",
    "\n",
    "source_n3 = ({\n",
    "    \"A\":123123,\n",
    "    \"B\":123,\n",
    "    \"C\":444,\n",
    "    \"D\":3233\n",
    "},{\n",
    "    \"A\": 3323,\n",
    "    \"E\": 13755,\n",
    "    \"S\": 125,\n",
    "    \"R\": 1997,\n",
    "    \"X\": 665\n",
    "},{\n",
    "    \"D\": 1865,\n",
    "    \"W\": 8753,\n",
    "    \"Q\": 872,\n",
    "    \"S\": 126,\n",
    "    \"B\": 1231\n",
    "})\n",
    "# source_n3 -> test_dict\n",
    "test_dict = {'A': 3323,\n",
    " 'B': 1231,\n",
    " 'C': 444,\n",
    " 'D': 1865,\n",
    " 'E': 13755,\n",
    " 'S': 126,\n",
    " 'R': 1997,\n",
    " 'X': 665,\n",
    " 'W': 8753,\n",
    " 'Q': 872}\n"
   ]
  },
  {
   "cell_type": "code",
   "execution_count": 43,
   "metadata": {},
   "outputs": [],
   "source": [
    "res_n3 = {}\n",
    "\n",
    "# Предполагаемое решение\n",
    "for item in source_n2:\n",
    "    for k,v in item.items():\n",
    "        res_n3[k] = v\n",
    "\n",
    "assert res_n3 == test_dict"
   ]
  },
  {
   "cell_type": "code",
   "execution_count": 44,
   "metadata": {},
   "outputs": [],
   "source": [
    "res_n3_1 = {}\n",
    "\n",
    "for item in source_n2:\n",
    "    res_n3_1.update(item)\n",
    "    \n",
    "assert res_n3_1 == test_dict"
   ]
  },
  {
   "cell_type": "markdown",
   "metadata": {},
   "source": [
    "## Args и kwargs"
   ]
  },
  {
   "cell_type": "code",
   "execution_count": 21,
   "metadata": {},
   "outputs": [
    {
     "data": {
      "text/plain": [
       "24"
      ]
     },
     "execution_count": 21,
     "metadata": {},
     "output_type": "execute_result"
    }
   ],
   "source": [
    "def mult(a,b,c):\n",
    "    return a*b*c\n",
    "\n",
    "args_arr = [2,3,4]\n",
    "\n",
    "# mult(2,3,4)\n",
    "mult(*args_arr)"
   ]
  },
  {
   "cell_type": "code",
   "execution_count": 22,
   "metadata": {},
   "outputs": [
    {
     "data": {
      "text/plain": [
       "24"
      ]
     },
     "execution_count": 22,
     "metadata": {},
     "output_type": "execute_result"
    }
   ],
   "source": [
    "kwargs_dict = {\"a\":2, \"b\":3, \"c\":4}\n",
    "# kwargs_dict = {\"a\":2, \"b\":3, \"c\":4, \"d\":5}\n",
    "\n",
    "# mult(a=2, b=3, c=4)\n",
    "mult(**kwargs_dict)\n"
   ]
  },
  {
   "cell_type": "code",
   "execution_count": 51,
   "metadata": {},
   "outputs": [
    {
     "name": "stdout",
     "output_type": "stream",
     "text": [
      "(2, 3, 4)\n"
     ]
    },
    {
     "data": {
      "text/plain": [
       "9"
      ]
     },
     "execution_count": 51,
     "metadata": {},
     "output_type": "execute_result"
    }
   ],
   "source": [
    "def args_not_kwargs(*args):\n",
    "    print(args)\n",
    "    return sum(args)\n",
    "args_not_kwargs(*args_arr)\n"
   ]
  },
  {
   "cell_type": "code",
   "execution_count": 52,
   "metadata": {},
   "outputs": [
    {
     "ename": "TypeError",
     "evalue": "args_not_kwargs() got an unexpected keyword argument 'a'",
     "output_type": "error",
     "traceback": [
      "\u001b[0;31m---------------------------------------------------------------------------\u001b[0m",
      "\u001b[0;31mTypeError\u001b[0m                                 Traceback (most recent call last)",
      "\u001b[0;32m<ipython-input-52-cbe7d6c9439c>\u001b[0m in \u001b[0;36m<module>\u001b[0;34m\u001b[0m\n\u001b[0;32m----> 1\u001b[0;31m \u001b[0margs_not_kwargs\u001b[0m\u001b[0;34m(\u001b[0m\u001b[0;34m**\u001b[0m\u001b[0mkwargs_dict\u001b[0m\u001b[0;34m)\u001b[0m\u001b[0;34m\u001b[0m\u001b[0;34m\u001b[0m\u001b[0m\n\u001b[0m",
      "\u001b[0;31mTypeError\u001b[0m: args_not_kwargs() got an unexpected keyword argument 'a'"
     ]
    }
   ],
   "source": [
    "# Нет именованных параметров\n",
    "args_not_kwargs(**kwargs_dict) # :("
   ]
  },
  {
   "cell_type": "code",
   "execution_count": 56,
   "metadata": {},
   "outputs": [
    {
     "name": "stdout",
     "output_type": "stream",
     "text": [
      "(1, 2, 3, 4, 2, 3, 4) {'test': 10, 'test_2': 20, 'a': 2, 'b': 3, 'c': 4}\n"
     ]
    },
    {
     "data": {
      "text/plain": [
       "1"
      ]
     },
     "execution_count": 56,
     "metadata": {},
     "output_type": "execute_result"
    }
   ],
   "source": [
    "def func_accept_all(*args, **kwargs):\n",
    "    print(args, kwargs)\n",
    "    return 1\n",
    "func_accept_all(1,2,3,4,*args_arr, test=10,test_2=20, **kwargs_dict)"
   ]
  },
  {
   "cell_type": "code",
   "execution_count": 55,
   "metadata": {},
   "outputs": [
    {
     "ename": "TypeError",
     "evalue": "func_with_duplicating_params() got multiple values for argument 'a'",
     "output_type": "error",
     "traceback": [
      "\u001b[0;31m---------------------------------------------------------------------------\u001b[0m",
      "\u001b[0;31mTypeError\u001b[0m                                 Traceback (most recent call last)",
      "\u001b[0;32m<ipython-input-55-80858464a99e>\u001b[0m in \u001b[0;36m<module>\u001b[0;34m\u001b[0m\n\u001b[1;32m      2\u001b[0m     \u001b[0mprint\u001b[0m\u001b[0;34m(\u001b[0m\u001b[0ma\u001b[0m\u001b[0;34m,\u001b[0m \u001b[0mkwargs\u001b[0m\u001b[0;34m)\u001b[0m\u001b[0;34m\u001b[0m\u001b[0;34m\u001b[0m\u001b[0m\n\u001b[1;32m      3\u001b[0m     \u001b[0;32mreturn\u001b[0m \u001b[0;36m1\u001b[0m\u001b[0;34m\u001b[0m\u001b[0;34m\u001b[0m\u001b[0m\n\u001b[0;32m----> 4\u001b[0;31m \u001b[0mfunc_with_duplicating_params\u001b[0m\u001b[0;34m(\u001b[0m\u001b[0;36m1\u001b[0m\u001b[0;34m,\u001b[0m \u001b[0;34m**\u001b[0m\u001b[0mkwargs_dict\u001b[0m\u001b[0;34m)\u001b[0m\u001b[0;34m\u001b[0m\u001b[0;34m\u001b[0m\u001b[0m\n\u001b[0m",
      "\u001b[0;31mTypeError\u001b[0m: func_with_duplicating_params() got multiple values for argument 'a'"
     ]
    }
   ],
   "source": [
    "def func_with_duplicating_params(a, **kwargs):\n",
    "    print(a, kwargs)\n",
    "    return 1\n",
    "\n",
    "func_with_duplicating_params(1, **kwargs_dict)"
   ]
  },
  {
   "cell_type": "markdown",
   "metadata": {},
   "source": [
    "## Генераторы"
   ]
  },
  {
   "cell_type": "code",
   "execution_count": 79,
   "metadata": {},
   "outputs": [
    {
     "name": "stdout",
     "output_type": "stream",
     "text": [
      "<class 'range'>\n"
     ]
    }
   ],
   "source": [
    "test_range = range(5)\n",
    "print(type(test_range))"
   ]
  },
  {
   "cell_type": "code",
   "execution_count": 60,
   "metadata": {},
   "outputs": [],
   "source": [
    "# Пример генератора\n",
    "def test_generator(string):\n",
    "    str_to_return = sorted(string.upper())\n",
    "    for char in str_to_return:\n",
    "        if char !=\" \":\n",
    "            yield char"
   ]
  },
  {
   "cell_type": "code",
   "execution_count": 62,
   "metadata": {},
   "outputs": [
    {
     "name": "stdout",
     "output_type": "stream",
     "text": [
      ",ААААВВЕИИЙККККЛЛЛННОООПСССТТТТУЧШЫЬЯЯ"
     ]
    }
   ],
   "source": [
    "for i in test_generator('Я счастливый как никто, сотку я нашел в пальто'):\n",
    "    print(i, end=\"\")"
   ]
  },
  {
   "cell_type": "code",
   "execution_count": 74,
   "metadata": {},
   "outputs": [
    {
     "name": "stdout",
     "output_type": "stream",
     "text": [
      "<generator object test_generator at 0x1128b9820>\n"
     ]
    },
    {
     "data": {
      "text/plain": [
       "'1'"
      ]
     },
     "execution_count": 74,
     "metadata": {},
     "output_type": "execute_result"
    }
   ],
   "source": [
    "test_gen = test_generator('123123123')\n",
    "print(test_gen)\n",
    "next(test_gen)"
   ]
  },
  {
   "cell_type": "code",
   "execution_count": 75,
   "metadata": {},
   "outputs": [
    {
     "name": "stdout",
     "output_type": "stream",
     "text": [
      "11222333"
     ]
    }
   ],
   "source": [
    "for i in test_gen:\n",
    "    print(i, end=\"\")"
   ]
  },
  {
   "cell_type": "code",
   "execution_count": 76,
   "metadata": {},
   "outputs": [
    {
     "name": "stdout",
     "output_type": "stream",
     "text": [
      "<generator object test_generator at 0x1128b9820>\n"
     ]
    },
    {
     "ename": "StopIteration",
     "evalue": "",
     "output_type": "error",
     "traceback": [
      "\u001b[0;31m---------------------------------------------------------------------------\u001b[0m",
      "\u001b[0;31mStopIteration\u001b[0m                             Traceback (most recent call last)",
      "\u001b[0;32m<ipython-input-76-670d6a6cbd2d>\u001b[0m in \u001b[0;36m<module>\u001b[0;34m\u001b[0m\n\u001b[1;32m      1\u001b[0m \u001b[0;31m# Ошибка, тк генератор закончил работу\u001b[0m\u001b[0;34m\u001b[0m\u001b[0;34m\u001b[0m\u001b[0;34m\u001b[0m\u001b[0m\n\u001b[1;32m      2\u001b[0m \u001b[0mprint\u001b[0m\u001b[0;34m(\u001b[0m\u001b[0mtest_gen\u001b[0m\u001b[0;34m)\u001b[0m\u001b[0;34m\u001b[0m\u001b[0;34m\u001b[0m\u001b[0m\n\u001b[0;32m----> 3\u001b[0;31m \u001b[0mnext\u001b[0m\u001b[0;34m(\u001b[0m\u001b[0mtest_gen\u001b[0m\u001b[0;34m)\u001b[0m\u001b[0;34m\u001b[0m\u001b[0;34m\u001b[0m\u001b[0m\n\u001b[0m",
      "\u001b[0;31mStopIteration\u001b[0m: "
     ]
    }
   ],
   "source": [
    "# Ошибка, тк генератор закончил работу\n",
    "print(test_gen)\n",
    "next(test_gen)"
   ]
  },
  {
   "cell_type": "markdown",
   "metadata": {},
   "source": [
    "## Декораторы"
   ]
  },
  {
   "cell_type": "code",
   "execution_count": 82,
   "metadata": {},
   "outputs": [],
   "source": [
    "def test_hello_world(string=\"Hello world!\"):\n",
    "    print(string)\n",
    "    return \"Hello students!\""
   ]
  },
  {
   "cell_type": "code",
   "execution_count": 83,
   "metadata": {},
   "outputs": [],
   "source": [
    "# Псевдодекоратор\n",
    "def pseudo_decorator_func(before=1, after=2):\n",
    "    print(\"Im decorating test_hello_world before\", before)\n",
    "    test_hello_world()\n",
    "    print(\"Im decorating test_hello_world after\", after)"
   ]
  },
  {
   "cell_type": "code",
   "execution_count": 85,
   "metadata": {},
   "outputs": [
    {
     "name": "stdout",
     "output_type": "stream",
     "text": [
      "Hello world!\n",
      "\n",
      "Im decorating test_hello_world before 1\n",
      "Hello world!\n",
      "Im decorating test_hello_world after 2\n"
     ]
    }
   ],
   "source": [
    "test_hello_world()\n",
    "print(\"\")\n",
    "pseudo_decorator_func()"
   ]
  },
  {
   "cell_type": "code",
   "execution_count": 88,
   "metadata": {},
   "outputs": [],
   "source": [
    "# Декоратор (ну почти)\n",
    "def decorator_without_args(func):\n",
    "    def wrapper(before=1, after=2):\n",
    "        print(\"Im decorating some func before\", before)\n",
    "        func()\n",
    "        print(\"Im decorating some func after\", after)\n",
    "    return wrapper"
   ]
  },
  {
   "cell_type": "code",
   "execution_count": 102,
   "metadata": {},
   "outputs": [
    {
     "name": "stdout",
     "output_type": "stream",
     "text": [
      "\n",
      "Im decorating some func before no_before_argument\n",
      "Hello world!\n",
      "Im decorating some func after no_after_argument\n"
     ]
    }
   ],
   "source": [
    "# @decorator_without_args\n",
    "# @decorator_with_args\n",
    "def test_hello_world_2(string=\"Hello world!\"):\n",
    "    print(string)\n",
    "    return \"Im decorated!!!\"\n",
    "\n",
    "# dec_func = decorator_without_args(test_hello_world_2)\n",
    "# dec_func()\n",
    "\n",
    "# dec_func = test_hello_world_2\n",
    "print(\"\")\n",
    "test_res = test_hello_world_2()\n",
    "# print(\"RES\", test_res)"
   ]
  },
  {
   "cell_type": "code",
   "execution_count": 99,
   "metadata": {},
   "outputs": [],
   "source": [
    "# Наконец нормальный декоратор\n",
    "def decorator_with_args(func):\n",
    "    def wrapper(*args, **kwargs):\n",
    "        print(\"Im decorating some func before\", kwargs.get(\"before\", \"no_before_argument\"))\n",
    "        res = func(*args, **kwargs)\n",
    "        print(\"Im decorating some func after\",  kwargs.get(\"after\", \"no_after_argument\"))\n",
    "        return res\n",
    "    return wrapper"
   ]
  },
  {
   "cell_type": "code",
   "execution_count": null,
   "metadata": {},
   "outputs": [],
   "source": []
  },
  {
   "cell_type": "markdown",
   "metadata": {},
   "source": [
    "## ДЗ"
   ]
  },
  {
   "cell_type": "markdown",
   "metadata": {},
   "source": [
    "## 1] Вывод дерева директории (*)\n",
    "Разработать функцию вывода директории в виде дерева (путь до директории подается в качестве входного параметра функции). При этом сначала выводятся все папки директории, затем все файлы. Напротив папок ставить знак `(d)`. \n",
    "\n",
    "В процессе выполнения задачи следует разобраться в модуле `os`, научиться с ним работать\n",
    "(ссылка на документацию для более глубокого изучения: https://docs.python.org/3/library/os.html).\n",
    "    \n",
    "Пример вывода программы:\n",
    "```\n",
    ".\n",
    "├── maven_repos (d)\n",
    "├── release (d)\n",
    "│   ├── release_d1 (d)\n",
    "│   │   └── release_d1_f1.txt\n",
    "│   ├── release_f1.txt\n",
    "│   └── release_f2\n",
    "├── svn (d)\n",
    "│   ├── svn_d1 (d)\n",
    "│   ├── svn_d2 (d)\n",
    "│   └── svn_f1.txt\n",
    "└── file_1.txt\n",
    "```"
   ]
  },
  {
   "cell_type": "markdown",
   "metadata": {},
   "source": [
    "## 2] Реализация идемпотентного прохода по множеству\n",
    "Идемпотентность - свойство объекта или операции при повторном применении операции к объекту давать тот же результат, что и при первом (https://ru.wikipedia.org/wiki/%D0%98%D0%B4%D0%B5%D0%BC%D0%BF%D0%BE%D1%82%D0%B5%D0%BD%D1%82%D0%BD%D0%BE%D1%81%D1%82%D1%8C).\n",
    "\n",
    "Как мы знаем из прошлой лекции множество - неупорядоченная коллекция. Реализовать генератор, который получает множество и выводит его всегда в определенном порядке."
   ]
  },
  {
   "cell_type": "markdown",
   "metadata": {},
   "source": [
    "## 3] Создать генератор случайной неубывающей последовательности чисел\n",
    "Разобраться в модуле `random`, реализовать генератор, принимающий 3 параметра: длину последовательности, минимальное значение выходных чисел, максимальное значение выходных чисел. Для минимального и максимального параметра задать значения по умолчанию `[0,100)`"
   ]
  },
  {
   "cell_type": "markdown",
   "metadata": {},
   "source": [
    "## 4] Написать декоратор, считающий время выполнения функции\n",
    "Составить декоратор, который выводит в консоль время выполнения декорируемой функции ( (*) выводить в консоль также название функции)"
   ]
  },
  {
   "cell_type": "code",
   "execution_count": null,
   "metadata": {},
   "outputs": [],
   "source": []
  }
 ],
 "metadata": {
  "kernelspec": {
   "display_name": "Python 3",
   "language": "python",
   "name": "python3"
  },
  "language_info": {
   "codemirror_mode": {
    "name": "ipython",
    "version": 3
   },
   "file_extension": ".py",
   "mimetype": "text/x-python",
   "name": "python",
   "nbconvert_exporter": "python",
   "pygments_lexer": "ipython3",
   "version": "3.8.3"
  }
 },
 "nbformat": 4,
 "nbformat_minor": 4
}
