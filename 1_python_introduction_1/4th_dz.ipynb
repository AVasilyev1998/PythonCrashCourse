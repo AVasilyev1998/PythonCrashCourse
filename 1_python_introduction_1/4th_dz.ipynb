{
 "cells": [
  {
   "cell_type": "code",
   "execution_count": 34,
   "metadata": {},
   "outputs": [],
   "source": [
    "import random"
   ]
  },
  {
   "cell_type": "markdown",
   "metadata": {},
   "source": [
    "### Класс команда"
   ]
  },
  {
   "cell_type": "code",
   "execution_count": 35,
   "metadata": {},
   "outputs": [],
   "source": [
    "class Team:\n",
    "    def __init__(self, name = 'неизвестно', city = 'неизвестно', colors = 'неизвестно'):\n",
    "        \"\"\"Constructor\"\"\"\n",
    "        self.name = name\n",
    "        self.city = city\n",
    "        self.colors = colors\n",
    "        print('Сформирована команда \"%s\" из города %s с цветами команды %s' %  (self.name, self.city, self.colors))\n",
    "    def get_name(self):\n",
    "        return self.name\n",
    "    def __del__(self):\n",
    "        print('Команда \"%s\" расформирована' % self.name)"
   ]
  },
  {
   "cell_type": "code",
   "execution_count": 36,
   "metadata": {},
   "outputs": [
    {
     "name": "stdout",
     "output_type": "stream",
     "text": [
      "Сформирована команда \"Дружба это чудо\" из города Москва с цветами команды ['розовый', 'белый']\n"
     ]
    }
   ],
   "source": [
    "myteam = Team('Дружба это чудо', 'Москва', ['розовый', 'белый'])"
   ]
  },
  {
   "cell_type": "code",
   "execution_count": 37,
   "metadata": {},
   "outputs": [
    {
     "name": "stdout",
     "output_type": "stream",
     "text": [
      "Команда \"Дружба это чудо\" расформирована\n"
     ]
    }
   ],
   "source": [
    "del myteam"
   ]
  },
  {
   "cell_type": "markdown",
   "metadata": {},
   "source": [
    "### Класс матч"
   ]
  },
  {
   "cell_type": "code",
   "execution_count": 38,
   "metadata": {},
   "outputs": [],
   "source": [
    "class Match:\n",
    "    def __init__(self, time = 'неизвестно', place = 'неизвестно', teams = 'неизвестно'):\n",
    "        \"\"\"Constructor\"\"\"\n",
    "        self.time = time\n",
    "        self.place = place\n",
    "        self.teams = teams\n",
    "        self.winner = None\n",
    "        print('В \"%s\" на \"%s\" проходит матч между командами %s' %  (self.time, self.place, self.teams))\n",
    "    def run_match(self):\n",
    "        self.winner = random.choice(self.teams)\n",
    "    def get_winner(self):\n",
    "        return self.winner\n",
    "    def get_teams(self):\n",
    "        return self.teams"
   ]
  },
  {
   "cell_type": "code",
   "execution_count": 39,
   "metadata": {},
   "outputs": [
    {
     "name": "stdout",
     "output_type": "stream",
     "text": [
      "В \"17:40\" на \"Стадион Золотые Голубцы\" проходит матч между командами ['команда 1', 'команда 2']\n"
     ]
    },
    {
     "data": {
      "text/plain": [
       "'команда 1'"
      ]
     },
     "execution_count": 39,
     "metadata": {},
     "output_type": "execute_result"
    }
   ],
   "source": [
    "myMatch = Match('17:40', 'Стадион Золотые Голубцы', ['команда 1', 'команда 2'])\n",
    "myMatch.run_match()\n",
    "myMatch.get_winner()"
   ]
  },
  {
   "cell_type": "code",
   "execution_count": 40,
   "metadata": {},
   "outputs": [],
   "source": [
    "del myMatch"
   ]
  },
  {
   "cell_type": "markdown",
   "metadata": {},
   "source": [
    "### Класс чемпионата"
   ]
  },
  {
   "cell_type": "code",
   "execution_count": 45,
   "metadata": {},
   "outputs": [],
   "source": [
    "class Championship:\n",
    "    def __init__(self, matchs = []):\n",
    "        self.matchs = matchs\n",
    "    def run_championship(self):\n",
    "        for match in self.matchs:\n",
    "            match.run_match()\n",
    "            winner = match.get_winner()\n",
    "            teams = match.get_teams()\n",
    "            print('\"%s\" выигрывает в матче между %s' % (winner, teams))"
   ]
  },
  {
   "cell_type": "markdown",
   "metadata": {},
   "source": [
    "#### Создадим команды"
   ]
  },
  {
   "cell_type": "code",
   "execution_count": 42,
   "metadata": {},
   "outputs": [
    {
     "name": "stdout",
     "output_type": "stream",
     "text": [
      "Сформирована команда \"Дружба это чудо\" из города Москва с цветами команды ['розовый', 'белый']\n",
      "Сформирована команда \"Джедаи\" из города Саратов с цветами команды ['белый', 'чёрный']\n",
      "Сформирована команда \"Легионер\" из города Новосибирск с цветами команды ['серый', 'жёлтый']\n",
      "Сформирована команда \"Караси\" из города Чёрное море с цветами команды ['зелёный', 'голубой']\n"
     ]
    }
   ],
   "source": [
    "team1 = Team('Дружба это чудо', 'Москва', ['розовый', 'белый'])\n",
    "team2 = Team('Джедаи', 'Саратов', ['белый', 'чёрный'])\n",
    "team3 = Team('Легионер', 'Новосибирск', ['серый', 'жёлтый'])\n",
    "team4 = Team('Караси', 'Чёрное море', ['зелёный', 'голубой'])"
   ]
  },
  {
   "cell_type": "markdown",
   "metadata": {},
   "source": [
    "#### Создадим матчи"
   ]
  },
  {
   "cell_type": "code",
   "execution_count": 43,
   "metadata": {},
   "outputs": [
    {
     "name": "stdout",
     "output_type": "stream",
     "text": [
      "В \"17:40\" на \"Стадион Золотые Голубцы\" проходит матч между командами ['Дружба это чудо', 'Джедаи']\n",
      "В \"19:25\" на \"Стадион Золотые Голубцы Арена\" проходит матч между командами ['Легионер', 'Караси']\n"
     ]
    }
   ],
   "source": [
    "match1 = Match('17:40', 'Стадион Золотые Голубцы', [team1.get_name(), team2.get_name()])\n",
    "match2 = Match('19:25', 'Стадион Золотые Голубцы Арена', [team3.get_name(), team4.get_name()])"
   ]
  },
  {
   "cell_type": "markdown",
   "metadata": {},
   "source": [
    "#### Создадим чемпионат и узнаем итоги игр"
   ]
  },
  {
   "cell_type": "code",
   "execution_count": 46,
   "metadata": {},
   "outputs": [
    {
     "name": "stdout",
     "output_type": "stream",
     "text": [
      "\"Дружба это чудо\" выигрывает в матче между ['Дружба это чудо', 'Джедаи']\n",
      "\"Легионер\" выигрывает в матче между ['Легионер', 'Караси']\n"
     ]
    }
   ],
   "source": [
    "championship = Championship([match1, match2])\n",
    "championship.run_championship()"
   ]
  },
  {
   "cell_type": "code",
   "execution_count": null,
   "metadata": {},
   "outputs": [],
   "source": []
  }
 ],
 "metadata": {
  "kernelspec": {
   "display_name": "Python 3",
   "language": "python",
   "name": "python3"
  },
  "language_info": {
   "codemirror_mode": {
    "name": "ipython",
    "version": 3
   },
   "file_extension": ".py",
   "mimetype": "text/x-python",
   "name": "python",
   "nbconvert_exporter": "python",
   "pygments_lexer": "ipython3",
   "version": "3.8.3"
  }
 },
 "nbformat": 4,
 "nbformat_minor": 4
}
