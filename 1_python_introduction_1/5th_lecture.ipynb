{
 "cells": [
  {
   "cell_type": "markdown",
   "metadata": {},
   "source": [
    "# Лекция 5\n",
    "## Выведение из Python"
   ]
  },
  {
   "cell_type": "markdown",
   "metadata": {},
   "source": [
    "## Классификация языков программирования"
   ]
  },
  {
   "cell_type": "markdown",
   "metadata": {},
   "source": [
    "### Компилируемые языки\n",
    "#### Примеры: C, С++, Golang...\n",
    "```\n",
    "            (Компиляция)             (Запуск)\n",
    "Исходный код ----------> Машинный код -------> Результат\n",
    " (hello.c)              (hello.exe)        (\"Hello world!\")\n",
    "```\n",
    "Компиляция - процесс преобразования исходного кода в машинный (преобразование исходного кода в бинарный запускаемый файл или набор файлов). Машинный код представляет собой инструкции для целевой машины. \n",
    "\n",
    "    (+) Высокая скорость исполнения кода\n",
    "    (+) Почти гарантированное отсутствие при запуске программы ошибок вида \"такая переменная не объявлена\" / \"такой модуль не найден\" / \"нельзя сравнивать переменные таких типов\" и т.д. \n",
    "    (+) Эффективное использование системных ресурсов\n",
    "    (-) Для запуска требуется скомпилировать код\n",
    "    (-) Почти полное отсутствие динамической типизации"
   ]
  },
  {
   "cell_type": "markdown",
   "metadata": {},
   "source": [
    "### Интерпретируемые языки\n",
    "#### Примеры: PHP, JavaScript, Python, bash\n",
    "```\n",
    "             (Запуск)    (Интерпретация)          \n",
    "Исходный код ----------> -------------> Результат\n",
    " (hello.py)                        (\"Hello world!\")\n",
    "```\n",
    "Интерпретация - процесс построчного исполнения команды внутри специальной виртуальной среды.\n",
    "\n",
    "    (+) Исполняемый файл есть запускаемый\n",
    "    (+) Динамическая типизация\n",
    "    (+) Возможность реализации рефлексии\n",
    "    (-) Скорость исполнения кода"
   ]
  },
  {
   "cell_type": "markdown",
   "metadata": {},
   "source": [
    "## ФП vs ООП\n",
    "**Функциональное программирование (ФП)** - программирование на основе функций. Исполняемый код представляет собой последовательность вызываемых функций.\n",
    "\n",
    "**Объектно ориентированное программирование (ООП)** - программирование на основе классов и методов. Исполняемый код представляет собой взаимодействие с объектами класса и их методами.\n",
    "\n",
    "Данные методологии представляют собой методологию формирования архитектуры кода.\n",
    "```\n",
    "foo(o) или o.foo()\n",
    "```"
   ]
  },
  {
   "cell_type": "markdown",
   "metadata": {},
   "source": [
    "### Принципы ФП\n",
    "1. Все функции - чистые:\n",
    "    - Вызов функции не вызывает побочных эффектов (изменение переменных, дополнительные выводы в консоль, не использует глобальные переменные)\n",
    "    - От одинаковых параметров функция возвращает одинаковое значение\n",
    "2. Переменные неизменяемые\n",
    "    - Переменные не изменяются после инициализации\n",
    "3. Все функции первого класса\n",
    "    - Функции можно присваивать переменным и передавать в качестве аргументов другим функциям\n",
    "4. Лямбда-исчисление\n",
    "    - Самое важное в названии функции - список аргументов"
   ]
  },
  {
   "cell_type": "code",
   "execution_count": 3,
   "metadata": {},
   "outputs": [],
   "source": [
    "pi = 3.14\n",
    "\n",
    "# Чистая функция\n",
    "def area(n):\n",
    "    return n*n\n",
    "\n",
    "# Не чистая функция\n",
    "def round_area(d):\n",
    "    return pi*d*d/4"
   ]
  },
  {
   "cell_type": "code",
   "execution_count": 4,
   "metadata": {},
   "outputs": [
    {
     "name": "stdout",
     "output_type": "stream",
     "text": [
      "square\n",
      "4\n",
      "16\n"
     ]
    }
   ],
   "source": [
    "# Чистая функция\n",
    "def square_area(n):\n",
    "    return n*n\n",
    "\n",
    "# Чистая функция\n",
    "def round_area(d, pi):\n",
    "    return pi*d*d/4\n",
    "\n",
    "pi = 3.14\n",
    "\n",
    "in_type = input().lower()\n",
    "in_radius = int(input())   \n",
    "\n",
    "if in_type == \"round\":\n",
    "    f = lambda x: round_area(x, pi)\n",
    "else:\n",
    "    f = square_area\n",
    "\n",
    "print(f(in_radius))"
   ]
  },
  {
   "cell_type": "markdown",
   "metadata": {},
   "source": [
    "### Принципы ООП\n",
    "1. Инкапсуляция\n",
    "    - Ограничение доступа к атрибутам и методам класса, разные политики доступа к данным\n",
    "2. Наследование\n",
    "    - Возможность классу унаследовать все атрибуты и методы другого класса\n",
    "    - (Полупринцип) Абстракция - класс с методами, реализация которых отсутствует\n",
    "    - Возможность переопределить унаследованный метод\n",
    "3. Полиморфизм\n",
    "    - Возможность работать с несколькими типами данных, как будто это один и тот же тип.\n",
    "    "
   ]
  },
  {
   "cell_type": "code",
   "execution_count": 6,
   "metadata": {},
   "outputs": [
    {
     "name": "stdout",
     "output_type": "stream",
     "text": [
      "round\n",
      "3\n",
      "7.0649999999999995\n"
     ]
    }
   ],
   "source": [
    "class Figure:\n",
    "    def area(self):\n",
    "        raise NotImplementedError()\n",
    "\n",
    "class Round(Figure):\n",
    "    def __init__(self, side):\n",
    "        # Protected атрибут: чтение извне разрешается, редактирование разрешается, \n",
    "        # но при этом программист уведомлен, что подобное не совсем корректно\n",
    "        self._side = side \n",
    "        # Private переменная: переменная не видна извне\n",
    "        self.__pi = 3.14 \n",
    "    def area(self):\n",
    "        return self.__pi*self._side*self._side/4\n",
    "\n",
    "class Square(Figure):\n",
    "    def __init__(self, side):\n",
    "        self._side = side \n",
    "        \n",
    "    def area(self):\n",
    "        return self._side*self._side\n",
    "\n",
    "\n",
    "in_type = input().lower()\n",
    "in_radius = int(input())   \n",
    "\n",
    "if in_type == \"round\":\n",
    "    item = Round(in_radius)\n",
    "else:\n",
    "    item = Square(in_radius)\n",
    "\n",
    "print(item.area())"
   ]
  },
  {
   "cell_type": "code",
   "execution_count": 7,
   "metadata": {},
   "outputs": [],
   "source": [
    "class Inc:\n",
    "    def __init__(self):\n",
    "        # Публичная, видна извне, можно изменять извне\n",
    "        self.public = 1\n",
    "        # Защищенная. Не отличается от публичной, имеет предупреждающий характер\n",
    "        self._protected = 2\n",
    "        # приватная. Не видна извне\n",
    "        self.__private = 3"
   ]
  },
  {
   "cell_type": "code",
   "execution_count": 8,
   "metadata": {},
   "outputs": [
    {
     "ename": "AttributeError",
     "evalue": "'Inc' object has no attribute '__private'",
     "output_type": "error",
     "traceback": [
      "\u001b[0;31m---------------------------------------------------------------------------\u001b[0m",
      "\u001b[0;31mAttributeError\u001b[0m                            Traceback (most recent call last)",
      "\u001b[0;32m<ipython-input-8-9ea19fba8cab>\u001b[0m in \u001b[0;36m<module>\u001b[0;34m\u001b[0m\n\u001b[1;32m      2\u001b[0m \u001b[0mtest\u001b[0m\u001b[0;34m.\u001b[0m\u001b[0mpublic\u001b[0m\u001b[0;34m\u001b[0m\u001b[0;34m\u001b[0m\u001b[0m\n\u001b[1;32m      3\u001b[0m \u001b[0mtest\u001b[0m\u001b[0;34m.\u001b[0m\u001b[0m_protected\u001b[0m\u001b[0;34m\u001b[0m\u001b[0;34m\u001b[0m\u001b[0m\n\u001b[0;32m----> 4\u001b[0;31m \u001b[0mtest\u001b[0m\u001b[0;34m.\u001b[0m\u001b[0m__private\u001b[0m\u001b[0;34m\u001b[0m\u001b[0;34m\u001b[0m\u001b[0m\n\u001b[0m",
      "\u001b[0;31mAttributeError\u001b[0m: 'Inc' object has no attribute '__private'"
     ]
    }
   ],
   "source": [
    "test = Inc()\n",
    "test.public\n",
    "test._protected\n",
    "test.__private"
   ]
  },
  {
   "cell_type": "markdown",
   "metadata": {},
   "source": [
    "## Углубление в типы Python\n",
    "### Изменяемые и неизменяемые типы данных\n",
    "1. Неизменяемые типы: int, float, bool, string, tuple\n",
    "2. Изменяемые типы: list, dict, set\n",
    "\n",
    "### Hashable и unhashable"
   ]
  },
  {
   "cell_type": "markdown",
   "metadata": {},
   "source": [
    "## Как правильно писать код?\n",
    "### Linux\n",
    "Ссылка на курс https://www.youtube.com/watch?v=CQ4YpkeG3mQ&list=PLrCZzMib1e9rx3HmaLQfLYb9ociIvYOY1\n",
    "\n",
    "**(ОЧЕНЬ СОВЕТУЕМ К ОЗНАКОМЛЕНИЮ)**"
   ]
  },
  {
   "cell_type": "code",
   "execution_count": null,
   "metadata": {},
   "outputs": [],
   "source": []
  }
 ],
 "metadata": {
  "kernelspec": {
   "display_name": "Python 3",
   "language": "python",
   "name": "python3"
  },
  "language_info": {
   "codemirror_mode": {
    "name": "ipython",
    "version": 3
   },
   "file_extension": ".py",
   "mimetype": "text/x-python",
   "name": "python",
   "nbconvert_exporter": "python",
   "pygments_lexer": "ipython3",
   "version": "3.8.3"
  }
 },
 "nbformat": 4,
 "nbformat_minor": 4
}
