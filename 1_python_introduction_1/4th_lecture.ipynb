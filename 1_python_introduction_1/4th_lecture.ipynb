{
 "cells": [
  {
   "cell_type": "markdown",
   "metadata": {},
   "source": [
    "## ЛЕКЦИЯ 4\n",
    "\n",
    "***"
   ]
  },
  {
   "cell_type": "markdown",
   "metadata": {},
   "source": [
    "### Повторение"
   ]
  },
  {
   "cell_type": "markdown",
   "metadata": {},
   "source": [
    "1. Как выглядит декоратор? Что он из себя представляет?"
   ]
  },
  {
   "cell_type": "markdown",
   "metadata": {},
   "source": [
    "2. Для чего нужны генераторы?"
   ]
  },
  {
   "cell_type": "markdown",
   "metadata": {},
   "source": [
    "3. Чем map отличается от filter?"
   ]
  },
  {
   "cell_type": "markdown",
   "metadata": {},
   "source": [
    "4. Чем полезны менеджеры контекста?"
   ]
  },
  {
   "cell_type": "markdown",
   "metadata": {},
   "source": [
    "***\n",
    "\n",
    "### Try-Except\n",
    "**Описание:** конструкция для отлова и обработки ошибок except при работе блока try\n",
    "\n",
    "***\n",
    "Для примера попытаемся перевести строку в число и поделить на 2"
   ]
  },
  {
   "cell_type": "code",
   "execution_count": 1,
   "metadata": {},
   "outputs": [
    {
     "name": "stdout",
     "output_type": "stream",
     "text": [
      "ртпр\n"
     ]
    },
    {
     "ename": "ValueError",
     "evalue": "could not convert string to float: 'ртпр'",
     "output_type": "error",
     "traceback": [
      "\u001b[1;31m---------------------------------------------------------------------------\u001b[0m",
      "\u001b[1;31mValueError\u001b[0m                                Traceback (most recent call last)",
      "\u001b[1;32m<ipython-input-1-fa9624f0e2ff>\u001b[0m in \u001b[0;36m<module>\u001b[1;34m\u001b[0m\n\u001b[0;32m      1\u001b[0m \u001b[0minput_string\u001b[0m \u001b[1;33m=\u001b[0m \u001b[0minput\u001b[0m\u001b[1;33m(\u001b[0m\u001b[1;33m)\u001b[0m\u001b[1;33m\u001b[0m\u001b[1;33m\u001b[0m\u001b[0m\n\u001b[1;32m----> 2\u001b[1;33m \u001b[0mvalue\u001b[0m \u001b[1;33m=\u001b[0m \u001b[0mfloat\u001b[0m\u001b[1;33m(\u001b[0m\u001b[0minput_string\u001b[0m\u001b[1;33m)\u001b[0m \u001b[1;33m/\u001b[0m \u001b[1;36m2\u001b[0m\u001b[1;33m\u001b[0m\u001b[1;33m\u001b[0m\u001b[0m\n\u001b[0m\u001b[0;32m      3\u001b[0m \u001b[0mprint\u001b[0m\u001b[1;33m(\u001b[0m\u001b[0mvalue\u001b[0m\u001b[1;33m)\u001b[0m\u001b[1;33m\u001b[0m\u001b[1;33m\u001b[0m\u001b[0m\n",
      "\u001b[1;31mValueError\u001b[0m: could not convert string to float: 'ртпр'"
     ]
    }
   ],
   "source": [
    "input_string = input()\n",
    "value = float(input_string) / 2\n",
    "print(value)"
   ]
  },
  {
   "cell_type": "markdown",
   "metadata": {},
   "source": [
    "Сделаем то же самое, но с конструкцией Try-Except"
   ]
  },
  {
   "cell_type": "code",
   "execution_count": 2,
   "metadata": {},
   "outputs": [
    {
     "name": "stdout",
     "output_type": "stream",
     "text": [
      "рпвтап\n",
      "Произошла ошибка could not convert string to float: 'рпвтап'\n"
     ]
    }
   ],
   "source": [
    "input_string = input()\n",
    "try:\n",
    "    value = float(input_string) / 2\n",
    "    print(value)\n",
    "except ValueError as err:\n",
    "    print('Произошла ошибка', err)"
   ]
  },
  {
   "cell_type": "markdown",
   "metadata": {},
   "source": [
    "Варианты написания"
   ]
  },
  {
   "cell_type": "code",
   "execution_count": null,
   "metadata": {},
   "outputs": [],
   "source": [
    "except: (нежелательно)\n",
    "    ...\n",
    "except Exception:\n",
    "    ...\n",
    "except Exception as err:\n",
    "    ...\n",
    "except ValueError:\n",
    "    ...\n",
    "except Exception as err:\n",
    "    ..."
   ]
  },
  {
   "cell_type": "markdown",
   "metadata": {},
   "source": [
    "### Try-Except-Else-Finally"
   ]
  },
  {
   "cell_type": "code",
   "execution_count": 3,
   "metadata": {},
   "outputs": [],
   "source": [
    "def parseString(input_string):\n",
    "    try:\n",
    "        value = float(input_string) / 2\n",
    "        print(value)\n",
    "    except ValueError as err:\n",
    "        print('Произошла ошибка', err)\n",
    "    else:\n",
    "        print('Блок, который активируется когда нет ошибки')\n",
    "    finally:\n",
    "        print('Блок, который активируется в конце в любом случае')\n",
    "    "
   ]
  },
  {
   "cell_type": "code",
   "execution_count": 4,
   "metadata": {},
   "outputs": [
    {
     "name": "stdout",
     "output_type": "stream",
     "text": [
      "тпап\n",
      "Произошла ошибка could not convert string to float: 'тпап'\n",
      "Блок, который активируется в конце в любом случае\n"
     ]
    }
   ],
   "source": [
    "input_string = input()\n",
    "parseString(input_string)"
   ]
  },
  {
   "cell_type": "code",
   "execution_count": 5,
   "metadata": {},
   "outputs": [
    {
     "name": "stdout",
     "output_type": "stream",
     "text": [
      "5464\n",
      "2732.0\n",
      "Блок, который активируется когда нет ошибки\n",
      "Блок, который активируется в конце в любом случае\n"
     ]
    }
   ],
   "source": [
    "input_string = input()\n",
    "parseString(input_string)"
   ]
  },
  {
   "cell_type": "code",
   "execution_count": 6,
   "metadata": {},
   "outputs": [
    {
     "name": "stdout",
     "output_type": "stream",
     "text": [
      "ValueError caught\n"
     ]
    }
   ],
   "source": [
    "# ValueError\n",
    "try:\n",
    "    int('строка')\n",
    "except ValueError as e:\n",
    "    print(\"ValueError caught\")"
   ]
  },
  {
   "cell_type": "code",
   "execution_count": 7,
   "metadata": {},
   "outputs": [
    {
     "name": "stdout",
     "output_type": "stream",
     "text": [
      "KeyError caught\n"
     ]
    }
   ],
   "source": [
    "some_dict = dict()\n",
    "# KeyError\n",
    "try:\n",
    "    print(some_dict['not existing key'])\n",
    "except KeyError as ke:\n",
    "    print('KeyError caught')"
   ]
  },
  {
   "cell_type": "code",
   "execution_count": 8,
   "metadata": {},
   "outputs": [
    {
     "name": "stdout",
     "output_type": "stream",
     "text": [
      "IndexError caught\n"
     ]
    }
   ],
   "source": [
    "some_list = []\n",
    "# IndexError\n",
    "try:\n",
    "    some_list[100]  # не существующий индекс в списке\n",
    "except IndexError as ie:\n",
    "    print('IndexError caught')"
   ]
  },
  {
   "cell_type": "code",
   "execution_count": 9,
   "metadata": {},
   "outputs": [
    {
     "name": "stdout",
     "output_type": "stream",
     "text": [
      "division by zero\n"
     ]
    }
   ],
   "source": [
    "# ZeroDivisionError\n",
    "try:\n",
    "    1/0\n",
    "except ZeroDivisionError as zde:\n",
    "    print(zde)"
   ]
  },
  {
   "cell_type": "markdown",
   "metadata": {},
   "source": [
    "#### TODO: Как будут ловиться исключения в приведенном ниже коде?"
   ]
  },
  {
   "cell_type": "code",
   "execution_count": 10,
   "metadata": {},
   "outputs": [
    {
     "name": "stdout",
     "output_type": "stream",
     "text": [
      "error\n"
     ]
    }
   ],
   "source": [
    "a = 10\n",
    "b = 2\n",
    "list = [1, 2, 3, 4, 5]\n",
    "try:\n",
    "    def func(a, b):\n",
    "        return a + b\n",
    "    a /= b*0\n",
    "except IndexError:\n",
    "    print('index error')\n",
    "except Exception:\n",
    "    print('error')\n",
    "except ZeroDivisionError:\n",
    "    print('zdv error')"
   ]
  },
  {
   "cell_type": "markdown",
   "metadata": {},
   "source": [
    "***\n",
    "\n",
    "### Что такое ООП? Классы, объекты\n",
    "**Описание:** Объектно-ориентированное программирование. Когда написанная программа с помощью ООП представляет из себя совокупность объектов, каждый из которых является экзепляром класса.\n",
    "\n",
    "**Простыми словами:** нам нужно собрать болид Формулы-1 используя ООП, определим реальные объекты болида: непосредственно сам болид и гонщик.   \n",
    "  \n",
    "Болид может обладать характеристиками:  \n",
    "•\tмощность двигателя;  \n",
    "•\tмарка;  \n",
    "•\tмодель;  \n",
    "•\tпроизводитель, и т. д.  \n",
    "  \n",
    "Гонщик может обладать характеристиками:  \n",
    "•\tнациональность;  \n",
    "•\tвозраст;  \n",
    "•\tпол, и т. д.  \n",
    "  \n",
    "**Описание:** Класс это, своего рода, чертёж нашего объекта, класс может быть один, а экземпляров класса - объектов, может быть много, т.е. это произведённые по этому чертежу объекты. Объекты могут быть немного модифицированы, могут не быть похожими друг на друга, но по сути своей они жёстко типизированы благодаря классу.\n",
    "\n",
    "***"
   ]
  },
  {
   "cell_type": "code",
   "execution_count": 64,
   "metadata": {},
   "outputs": [],
   "source": [
    "class Bolide():\n",
    "    def __init__(self):\n",
    "        self.power = 40\n",
    "        self.brand = 'Ford'\n",
    "        self.model = 'Discovery'\n",
    "        self.manufacturer = 'Ford factory'\n",
    "    \n",
    "class Racer():\n",
    "    def __init__(self):\n",
    "        self.nationality = 'Italian'\n",
    "        self.age = 36\n",
    "        self.gender = 'Male'"
   ]
  },
  {
   "cell_type": "markdown",
   "metadata": {},
   "source": [
    "Тем самым мы создали классы, которые при инициализации - создании объекта класса, определяют объект с заранее зашитыми параметрами, безусловно такой класс можно использовать, но если мы хотим разных начальных значений, то доработаем классы ещё"
   ]
  },
  {
   "cell_type": "code",
   "execution_count": 76,
   "metadata": {},
   "outputs": [],
   "source": [
    "class Bolide():\n",
    "    def __init__(self, in_power, in_brand, in_model, in_manufacturer):\n",
    "        self.power = in_power\n",
    "        self.brand = in_brand\n",
    "        self.model = in_model\n",
    "        self.manufacturer = in_manufacturer\n",
    "    \n",
    "class Racer():\n",
    "    def __init__(self, in_nationality, in_age, in_gender):\n",
    "        self.nationality = in_nationality\n",
    "        self.age = in_age\n",
    "        self.gender = in_gender"
   ]
  },
  {
   "cell_type": "markdown",
   "metadata": {},
   "source": [
    "Теперь мы сделали классы, при инициализации которых мы можем указать разные значения, но приведу эквивалент предыдущим записям, создам объект, чтобы он был эквивалентен прошлым классам с уже зашитыми данными"
   ]
  },
  {
   "cell_type": "code",
   "execution_count": 78,
   "metadata": {},
   "outputs": [],
   "source": [
    "bolide1 = Bolide(40, 'Ford', 'Discovery', 'Ford factory')\n",
    "racer1 = Racer('Italian',36, 'Male')"
   ]
  },
  {
   "cell_type": "markdown",
   "metadata": {},
   "source": [
    "Приведём эквивалент"
   ]
  },
  {
   "cell_type": "markdown",
   "metadata": {},
   "source": [
    "# Вынести отдельным примером Атрибут объекта и класса"
   ]
  },
  {
   "cell_type": "code",
   "execution_count": 79,
   "metadata": {},
   "outputs": [
    {
     "data": {
      "text/plain": [
       "40"
      ]
     },
     "execution_count": 79,
     "metadata": {},
     "output_type": "execute_result"
    }
   ],
   "source": [
    "class Bolide():\n",
    "    power = 40\n",
    "    brand = 'Ford'\n",
    "    model = 'Discovery'\n",
    "    manufacturer = 'Ford factory'\n",
    "    \n",
    "class Racer():\n",
    "    nationality = 'Italian'\n",
    "    age = 36\n",
    "    gender = 'Male'\n",
    "    \n",
    "    \n",
    "classVar = Racer()\n",
    "\n",
    "Bolide().power # Атрибут объекта\n",
    "Bolide.power   # Атрибут класса"
   ]
  },
  {
   "cell_type": "markdown",
   "metadata": {},
   "source": [
    "Что есть Pass?"
   ]
  },
  {
   "cell_type": "code",
   "execution_count": 21,
   "metadata": {},
   "outputs": [
    {
     "name": "stdout",
     "output_type": "stream",
     "text": [
      "Привет мир!\n"
     ]
    }
   ],
   "source": [
    "def func1():\n",
    "    print('Привет мир!')\n",
    "\n",
    "def func2():\n",
    "    pass\n",
    "\n",
    "func1()\n",
    "func2()"
   ]
  },
  {
   "cell_type": "code",
   "execution_count": 23,
   "metadata": {},
   "outputs": [
    {
     "ename": "IndentationError",
     "evalue": "expected an indented block (<ipython-input-23-f11a06203a88>, line 6)",
     "output_type": "error",
     "traceback": [
      "\u001b[1;36m  File \u001b[1;32m\"<ipython-input-23-f11a06203a88>\"\u001b[1;36m, line \u001b[1;32m6\u001b[0m\n\u001b[1;33m    func1()\u001b[0m\n\u001b[1;37m    ^\u001b[0m\n\u001b[1;31mIndentationError\u001b[0m\u001b[1;31m:\u001b[0m expected an indented block\n"
     ]
    }
   ],
   "source": [
    "def func1():\n",
    "    print('Привет мир!')\n",
    "\n",
    "def func2():\n",
    "\n",
    "func1()\n",
    "func2()"
   ]
  },
  {
   "cell_type": "markdown",
   "metadata": {},
   "source": [
    "Таким образом мы создали экземпляры классов Bolide, а именно объект bolide1 и Racer, а именно racer1, мы создали экземпляр так, чтобы данные были те же самые, что и в прошлых примерах"
   ]
  },
  {
   "cell_type": "code",
   "execution_count": 17,
   "metadata": {},
   "outputs": [],
   "source": [
    "class Calculator():\n",
    "    def __init__(self):\n",
    "        self.count_operation = 0\n",
    "    def plus(self, a, b):\n",
    "        self.count_operation+=1\n",
    "        return a + b\n",
    "    def minus(self, a, b):\n",
    "        self.count_operation+=1\n",
    "        return a - b\n",
    "    def division(self, a, b):\n",
    "        self.count_operation+=1\n",
    "        return a / b\n",
    "    def multipl(self, a, b):\n",
    "        self.count_operation+=1\n",
    "        return a * b\n",
    "    def get_count_oper(self):\n",
    "        return self.count_operation - 1"
   ]
  },
  {
   "cell_type": "code",
   "execution_count": 18,
   "metadata": {},
   "outputs": [
    {
     "name": "stdout",
     "output_type": "stream",
     "text": [
      "Плюс:  26\n",
      "Минус:  -6\n",
      "Деление:  0.625\n",
      "Умножение:  160\n",
      "Кол-во операций: 3\n"
     ]
    }
   ],
   "source": [
    "calc = Calculator()\n",
    "print('Плюс: ', calc.plus(10, 16))\n",
    "print('Минус: ', calc.minus(10, 16))\n",
    "print('Деление: ', calc.division(10, 16))\n",
    "print('Умножение: ', calc.multipl(10, 16))\n",
    "print('Кол-во операций:', calc.get_count_oper())"
   ]
  },
  {
   "cell_type": "markdown",
   "metadata": {},
   "source": [
    "#### TODO: Напишите класс колесо для болида (определите параметры колеса)"
   ]
  },
  {
   "cell_type": "code",
   "execution_count": null,
   "metadata": {},
   "outputs": [],
   "source": [
    "class Wheel:\n",
    "    pass"
   ]
  },
  {
   "cell_type": "markdown",
   "metadata": {},
   "source": [
    "***\n",
    "\n",
    "### Инкапсуляция\n",
    "**Описание:** доступность методов для внешнего использования\n",
    "\n",
    "***"
   ]
  },
  {
   "cell_type": "markdown",
   "metadata": {},
   "source": [
    "# ДОБАВИТЬ ПРИМЕР С ЗНАКОМСТВА С МЕТОДАМИ \"self и с чем его едят\""
   ]
  },
  {
   "cell_type": "code",
   "execution_count": 31,
   "metadata": {},
   "outputs": [],
   "source": [
    "class Test_Encapsulation():\n",
    "    def __init__(self, in_value1, in_value2):\n",
    "        self._set_value1(in_value1)\n",
    "        self.__set_value2(in_value2)\n",
    "        \n",
    "    def _set_value1(self, value): #Protected\n",
    "        self.value1 = value\n",
    "        \n",
    "    def __set_value2(self, value): #Private\n",
    "        self.value2 = value\n",
    "        \n",
    "    def print_values(self):\n",
    "        print('Значение1: %s, значение2: %s' % (self.value1, self.value2))"
   ]
  },
  {
   "cell_type": "code",
   "execution_count": 32,
   "metadata": {},
   "outputs": [],
   "source": [
    "test = Test_Encapsulation(10, 20)"
   ]
  },
  {
   "cell_type": "code",
   "execution_count": 33,
   "metadata": {},
   "outputs": [],
   "source": [
    "test._set_value1(45)"
   ]
  },
  {
   "cell_type": "code",
   "execution_count": 34,
   "metadata": {},
   "outputs": [
    {
     "ename": "AttributeError",
     "evalue": "'Test_Encapsulation' object has no attribute '__set_value2'",
     "output_type": "error",
     "traceback": [
      "\u001b[1;31m---------------------------------------------------------------------------\u001b[0m",
      "\u001b[1;31mAttributeError\u001b[0m                            Traceback (most recent call last)",
      "\u001b[1;32m<ipython-input-34-e5d3d26773a6>\u001b[0m in \u001b[0;36m<module>\u001b[1;34m\u001b[0m\n\u001b[1;32m----> 1\u001b[1;33m \u001b[0mtest\u001b[0m\u001b[1;33m.\u001b[0m\u001b[0m__set_value2\u001b[0m\u001b[1;33m(\u001b[0m\u001b[1;36m45\u001b[0m\u001b[1;33m)\u001b[0m\u001b[1;33m\u001b[0m\u001b[1;33m\u001b[0m\u001b[0m\n\u001b[0m",
      "\u001b[1;31mAttributeError\u001b[0m: 'Test_Encapsulation' object has no attribute '__set_value2'"
     ]
    }
   ],
   "source": [
    "test.__set_value2(45)"
   ]
  },
  {
   "cell_type": "code",
   "execution_count": 35,
   "metadata": {},
   "outputs": [
    {
     "name": "stdout",
     "output_type": "stream",
     "text": [
      "Значение1: 45, значение2: 20\n"
     ]
    }
   ],
   "source": [
    "test.print_values()"
   ]
  },
  {
   "cell_type": "markdown",
   "metadata": {},
   "source": [
    "***\n",
    "\n",
    "### Наследование\n",
    "**Описание:** Наследование есть ситуация, когда мы, создавая новый класс, можем наследоваться от другого класса и перенять все его методы, переменные и даже изменить их.\n",
    "\n",
    "***\n",
    "\n",
    "Пример 1:"
   ]
  },
  {
   "cell_type": "code",
   "execution_count": 36,
   "metadata": {},
   "outputs": [],
   "source": [
    "class ClassA():\n",
    "    def set_value(self, value):\n",
    "        self.value = value\n",
    "        \n",
    "class ClassB(ClassA):\n",
    "    def get_value(self):\n",
    "        return self.value"
   ]
  },
  {
   "cell_type": "code",
   "execution_count": 37,
   "metadata": {},
   "outputs": [
    {
     "name": "stdout",
     "output_type": "stream",
     "text": [
      "30\n"
     ]
    }
   ],
   "source": [
    "classB_obj = ClassB()\n",
    "classB_obj.set_value(30)  # метод set_value отнаследован от ClassA ! \n",
    "print(classB_obj.get_value()) "
   ]
  },
  {
   "cell_type": "markdown",
   "metadata": {},
   "source": [
    "Пример 2:"
   ]
  },
  {
   "cell_type": "code",
   "execution_count": null,
   "metadata": {},
   "outputs": [],
   "source": [
    "# все типы данных это Python классы! и все они отнаследованы от object\n",
    "print(dict.__base__)  # с помощью метода __base__ посмотрим родителя dict"
   ]
  },
  {
   "cell_type": "markdown",
   "metadata": {},
   "source": [
    "# ДОБАВИТЬ SUPER, УБРТАЬ dict.get..."
   ]
  },
  {
   "cell_type": "code",
   "execution_count": 50,
   "metadata": {},
   "outputs": [],
   "source": [
    "# отнаследуемся от стандартного класса dict\n",
    "class MyDict(dict):\n",
    "    def get(self, key, default = -999):\n",
    "        return dict.get(self, key, default)"
   ]
  },
  {
   "cell_type": "code",
   "execution_count": 51,
   "metadata": {},
   "outputs": [
    {
     "name": "stdout",
     "output_type": "stream",
     "text": [
      "{'a': 10, 'b': 12, 'с': 30, 'd': 55}\n"
     ]
    }
   ],
   "source": [
    "standart_dict = dict(a=10, b=12, с=30, d=55)  \n",
    "myDict = MyDict(standart_dict)  # вызывается __init__ класса родителя (dict)\n",
    "print(myDict)"
   ]
  },
  {
   "cell_type": "code",
   "execution_count": 52,
   "metadata": {},
   "outputs": [
    {
     "name": "stdout",
     "output_type": "stream",
     "text": [
      "-999\n",
      "-999\n"
     ]
    }
   ],
   "source": [
    "print(myDict.get('h'))\n",
    "\n",
    "print(standart_dict.get('h', -999))"
   ]
  },
  {
   "cell_type": "code",
   "execution_count": 42,
   "metadata": {},
   "outputs": [
    {
     "name": "stdout",
     "output_type": "stream",
     "text": [
      "10\n"
     ]
    }
   ],
   "source": [
    "print(myDict.func1('a'))"
   ]
  },
  {
   "cell_type": "markdown",
   "metadata": {},
   "source": [
    "#### TODO: Отнаследоваться от стандартного списка (list)\n",
    "создать у обьекта списка параметр(атрибут) длина\n",
    "\n",
    "для этого переопределить добавление элемента (append) и расширение списка (extend) так, чтобы\n",
    "\n",
    "при добавлении элемента(/расширении списка) длина увеличивалась"
   ]
  },
  {
   "cell_type": "markdown",
   "metadata": {},
   "source": [
    "***\n",
    "\n",
    "### Композиция\n",
    "**Описание:** вложенный класс. В классе родителя создаётся дочерний класс, дочерний класс перейти в другой класс не может и при удалении родительского класса удаляется следом за ним.\n",
    "\n",
    "***"
   ]
  },
  {
   "cell_type": "code",
   "execution_count": 62,
   "metadata": {},
   "outputs": [],
   "source": [
    "class Furniture():\n",
    "    def __init__():\n",
    "        print('Создана мебель')\n",
    "        \n",
    "class Room():\n",
    "    class Wall():\n",
    "        def __init__(self, number):\n",
    "            print('Создана стена №', number)\n",
    "\n",
    "    def __init__(self, name):\n",
    "        print('Создание комнаты с названием', name)\n",
    "        self.walls = []\n",
    "        for i in range(1,5):\n",
    "            self.walls.append(self.Wall(i))"
   ]
  },
  {
   "cell_type": "code",
   "execution_count": 63,
   "metadata": {},
   "outputs": [
    {
     "name": "stdout",
     "output_type": "stream",
     "text": [
      "Создание комнаты с названием Тагир\n",
      "Создана стена № 1\n",
      "Создана стена № 2\n",
      "Создана стена № 3\n",
      "Создана стена № 4\n"
     ]
    }
   ],
   "source": [
    "room = Room('Тагир')"
   ]
  },
  {
   "cell_type": "markdown",
   "metadata": {},
   "source": [
    "***\n",
    "\n",
    "### Агрегация\n",
    "**Описание:** вкладываем (создаём внутри экземпляры класса) объекты классы в другие классы. Мы можем передавать созданные объекты классов другие классам.\n",
    "\n",
    "***"
   ]
  },
  {
   "cell_type": "code",
   "execution_count": 53,
   "metadata": {},
   "outputs": [],
   "source": [
    "class Road():\n",
    "    def __init__(self):\n",
    "        print('Создали дорогу')\n",
    "\n",
    "class Car():\n",
    "    class Wheel():\n",
    "        def __init__(self):\n",
    "            print('Создали колесо')\n",
    "            \n",
    "    def __init__(self):\n",
    "        w1 = Wheel()\n",
    "        w2 = Wheel()\n",
    "        w3 = Wheel()\n",
    "        w4 = Wheel()\n",
    "        print('Создали машину с колёсами')\n",
    "\n",
    "class GameScene():\n",
    "    def __init__(self):\n",
    "        self.car = Car()\n",
    "        self.road = Road()\n",
    "        \n",
    "        \n"
   ]
  },
  {
   "cell_type": "code",
   "execution_count": 54,
   "metadata": {},
   "outputs": [
    {
     "name": "stdout",
     "output_type": "stream",
     "text": [
      "Создали машину\n",
      "Создали дорогу\n"
     ]
    }
   ],
   "source": [
    "scene = GameScene()"
   ]
  },
  {
   "cell_type": "markdown",
   "metadata": {},
   "source": [
    "***\n",
    "\n",
    "### Полиморфизм\n",
    "**Описание:** Разное поведение одного и того же метода в разных классах\n",
    "\n",
    "***"
   ]
  },
  {
   "cell_type": "code",
   "execution_count": 58,
   "metadata": {},
   "outputs": [],
   "source": [
    "class Polymorphism:\n",
    "    def __init__(self, a, b):\n",
    "        self.value1 = a\n",
    "        self.value2 = b\n",
    "\n",
    "    def __add__(self, other):\n",
    "        return self.value1 + other.value1\n",
    "    \n",
    "    def __repr__(self):\n",
    "        return 'Значение 1: %s Значение 2: %s' % (self.value1, self.value2)"
   ]
  },
  {
   "cell_type": "code",
   "execution_count": 59,
   "metadata": {},
   "outputs": [
    {
     "name": "stdout",
     "output_type": "stream",
     "text": [
      "11\n"
     ]
    }
   ],
   "source": [
    "poly1 = Polymorphism(3, 4)\n",
    "poly2 = Polymorphism(8, 5)\n",
    "print(poly1 + poly2)"
   ]
  },
  {
   "cell_type": "code",
   "execution_count": 60,
   "metadata": {},
   "outputs": [
    {
     "name": "stdout",
     "output_type": "stream",
     "text": [
      "Значение 1: 10 Значение 2: 14\n"
     ]
    }
   ],
   "source": [
    "poly3 = Polymorphism(10, 14)\n",
    "print(poly3)"
   ]
  },
  {
   "cell_type": "markdown",
   "metadata": {},
   "source": [
    "#### TODO: Как лучше реализовать болид в связи с рассмотренными принципами?"
   ]
  },
  {
   "cell_type": "markdown",
   "metadata": {},
   "source": [
    "***\n",
    "\n",
    "### Magic-методы\n",
    "**Описание:** один из способов реализации полиморфизма, когда мы можем задать свою реализацию какого-либо метода в своём классе. Пример выше.\n",
    "\n",
    "***"
   ]
  },
  {
   "cell_type": "markdown",
   "metadata": {},
   "source": [
    "https://pythonworld.ru/osnovy/peregruzka-operatorov.html"
   ]
  },
  {
   "cell_type": "code",
   "execution_count": 29,
   "metadata": {},
   "outputs": [
    {
     "name": "stdout",
     "output_type": "stream",
     "text": [
      "[1, 2, 3] | 3\n"
     ]
    }
   ],
   "source": [
    "# решение для TODO_3\n",
    "class MyList(list):\n",
    "    def __init__(self):\n",
    "        self.length = 0\n",
    "\n",
    "    def append(self, item):\n",
    "        self.length += 1\n",
    "        super(MyList, self).append(item)\n",
    "    \n",
    "    def extend(self, lst):\n",
    "        self.length += len(lst)\n",
    "        super(MyList, self).extend(lst)\n",
    "\n",
    "a = MyList()\n",
    "a.extend([1,2,3])\n",
    "print(a, '|', a.length)"
   ]
  },
  {
   "cell_type": "code",
   "execution_count": null,
   "metadata": {},
   "outputs": [],
   "source": []
  }
 ],
 "metadata": {
  "kernelspec": {
   "display_name": "Python 3",
   "language": "python",
   "name": "python3"
  },
  "language_info": {
   "codemirror_mode": {
    "name": "ipython",
    "version": 3
   },
   "file_extension": ".py",
   "mimetype": "text/x-python",
   "name": "python",
   "nbconvert_exporter": "python",
   "pygments_lexer": "ipython3",
   "version": "3.8.3"
  }
 },
 "nbformat": 4,
 "nbformat_minor": 4
}
