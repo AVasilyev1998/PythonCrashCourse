{
 "cells": [
  {
   "cell_type": "markdown",
   "metadata": {},
   "source": [
    "# Лекция 2\n",
    "\n",
    "## Введение в Python"
   ]
  },
  {
   "cell_type": "markdown",
   "metadata": {},
   "source": [
    "## Повтор предыдущего материала"
   ]
  },
  {
   "cell_type": "code",
   "execution_count": 1,
   "metadata": {},
   "outputs": [],
   "source": [
    "# интерактив из 5-8 вопросов"
   ]
  },
  {
   "cell_type": "markdown",
   "metadata": {},
   "source": [
    "## Работа со списками (list)"
   ]
  },
  {
   "cell_type": "code",
   "execution_count": 28,
   "metadata": {},
   "outputs": [
    {
     "data": {
      "text/plain": [
       "[1, 2, 3, 'some_string', 1.05, True]"
      ]
     },
     "execution_count": 28,
     "metadata": {},
     "output_type": "execute_result"
    }
   ],
   "source": [
    "# создание списка\n",
    "# список может состоять из элементов разных типов\n",
    "my_list = [1, 2, 3, 'some_string', 1.05, True]\n",
    "my_list"
   ]
  },
  {
   "cell_type": "code",
   "execution_count": 29,
   "metadata": {},
   "outputs": [
    {
     "data": {
      "text/plain": [
       "[1, 2, 3, 'some_string', 1.05, True, 'new_elem']"
      ]
     },
     "execution_count": 29,
     "metadata": {},
     "output_type": "execute_result"
    }
   ],
   "source": [
    "# добавление элемента в список\n",
    "my_list.append('new_elem')\n",
    "my_list"
   ]
  },
  {
   "cell_type": "code",
   "execution_count": 30,
   "metadata": {},
   "outputs": [
    {
     "name": "stdout",
     "output_type": "stream",
     "text": [
      "139980162222016\n",
      "139980162222016\n",
      "[1, 2, 3, 'some_string', 1.05, True, 'new_elem', 100, 42]\n"
     ]
    }
   ],
   "source": [
    "# расширение массива другим массивом\n",
    "print(id(my_list)) # id списка\n",
    "my_list.extend([100, 42]) # расширяем массивом, обьявленным сразу\n",
    "print(id(my_list)) # тот же id, тк. список - изменяемый тип\n",
    "print(my_list)"
   ]
  },
  {
   "cell_type": "code",
   "execution_count": 31,
   "metadata": {},
   "outputs": [
    {
     "name": "stdout",
     "output_type": "stream",
     "text": [
      "[1, 2, 3, 'some_string', 1.05, True, 'new_elem', 100, 42]\n"
     ]
    },
    {
     "data": {
      "text/plain": [
       "[2, 3, 'some_string', 1.05, True, 'new_elem', 100, 42]"
      ]
     },
     "execution_count": 31,
     "metadata": {},
     "output_type": "execute_result"
    }
   ],
   "source": [
    "# удаление элемента массива по индексу (по номеру)\n",
    "# если вызвать без аргумента - pop() - удаляет последний элемент\n",
    "print(my_list)\n",
    "my_list.pop(0) # удаляем нулевой элемент\n",
    "my_list"
   ]
  },
  {
   "cell_type": "markdown",
   "metadata": {},
   "source": [
    "### Важная часть списков - слайсы/срезы (slices)"
   ]
  },
  {
   "cell_type": "code",
   "execution_count": 43,
   "metadata": {},
   "outputs": [
    {
     "name": "stdout",
     "output_type": "stream",
     "text": [
      "[2, 3, 'some_string', 1.05, True, 'new_elem', 100, 42]\n"
     ]
    },
    {
     "data": {
      "text/plain": [
       "[3, 'some_string', 1.05, True, 'new_elem', 100, 42]"
      ]
     },
     "execution_count": 43,
     "metadata": {},
     "output_type": "execute_result"
    }
   ],
   "source": [
    "print(my_list)\n",
    "my_list[1:] # копия списка начиная с 1 элемента"
   ]
  },
  {
   "cell_type": "code",
   "execution_count": 49,
   "metadata": {},
   "outputs": [
    {
     "name": "stdout",
     "output_type": "stream",
     "text": [
      "[2, 3, 'some_string', 1.05, True, 'new_elem', 100, 42]\n"
     ]
    },
    {
     "data": {
      "text/plain": [
       "[3, 'some_string', 1.05]"
      ]
     },
     "execution_count": 49,
     "metadata": {},
     "output_type": "execute_result"
    }
   ],
   "source": [
    "print(my_list)\n",
    "# верхняя (правая) граница списка не включаемая \n",
    "my_list[1:4]  # копия списка с 1 элемента по 4(по 3 включительно)"
   ]
  },
  {
   "cell_type": "code",
   "execution_count": 54,
   "metadata": {},
   "outputs": [
    {
     "name": "stdout",
     "output_type": "stream",
     "text": [
      "[2, 3, 'some_string', 1.05, True, 'new_elem', 100, 42]\n"
     ]
    },
    {
     "data": {
      "text/plain": [
       "[3, 1.05, 'new_elem']"
      ]
     },
     "execution_count": 54,
     "metadata": {},
     "output_type": "execute_result"
    }
   ],
   "source": [
    "print(my_list)\n",
    "# сделаем срез с тремя параметрами\n",
    "my_list[1:-2:2]  # трейтий параметр отечает за шаг среза\n",
    "# шаг 2 - элементы буду выбираться через одного"
   ]
  },
  {
   "cell_type": "code",
   "execution_count": 55,
   "metadata": {},
   "outputs": [
    {
     "data": {
      "text/plain": [
       "42"
      ]
     },
     "execution_count": 55,
     "metadata": {},
     "output_type": "execute_result"
    }
   ],
   "source": [
    "my_list[-1]  # последний элемент списка"
   ]
  },
  {
   "cell_type": "code",
   "execution_count": 56,
   "metadata": {},
   "outputs": [
    {
     "data": {
      "text/plain": [
       "100"
      ]
     },
     "execution_count": 56,
     "metadata": {},
     "output_type": "execute_result"
    }
   ],
   "source": [
    "my_list[-2]  # предпоследний элемент списка"
   ]
  },
  {
   "cell_type": "markdown",
   "metadata": {},
   "source": [
    "## Чуть больше примеров со списками и циклами"
   ]
  },
  {
   "cell_type": "markdown",
   "metadata": {},
   "source": [
    "#### Простой проход по циклу"
   ]
  },
  {
   "cell_type": "code",
   "execution_count": 62,
   "metadata": {},
   "outputs": [
    {
     "name": "stdout",
     "output_type": "stream",
     "text": [
      "1 4 2 5 10 9 -3 4 6 "
     ]
    }
   ],
   "source": [
    "example_list = [1, 4, 2, 5, 10, 9, -3, 4, 6]\n",
    "for i in example_list:\n",
    "    # параметр end заменяет \\n(конец строки)\n",
    "    print(i, end=' ')  \n",
    "    # в данном случае заменяем \\n на пробел для вывода в одну строку"
   ]
  },
  {
   "cell_type": "markdown",
   "metadata": {},
   "source": [
    "#### Найдем максимум в списке с помощью цикла"
   ]
  },
  {
   "cell_type": "code",
   "execution_count": 63,
   "metadata": {},
   "outputs": [
    {
     "name": "stdout",
     "output_type": "stream",
     "text": [
      "Maximum is: 10\n"
     ]
    }
   ],
   "source": [
    "maximum = example_list[0] # обозначим 0й элемент за максимум\n",
    "for i in example_list[1:]: # пройдем по списку начиная с 1го элемента\n",
    "    if i > maximum:\n",
    "        maximum = i\n",
    "print(f'Maximum is: {maximum}')"
   ]
  },
  {
   "cell_type": "markdown",
   "metadata": {},
   "source": [
    "## Кортежи (tuple) отличие от list"
   ]
  },
  {
   "cell_type": "code",
   "execution_count": 74,
   "metadata": {},
   "outputs": [
    {
     "name": "stdout",
     "output_type": "stream",
     "text": [
      "<class 'tuple'> (1, 2, True, 'some_string', 1.05)\n"
     ]
    }
   ],
   "source": [
    "my_tuple = (1, 2, True, 'some_string', 1.05)\n",
    "print(type(my_tuple), my_tuple) # tuple - неизменяемый тип\n",
    "# (в отличие от list)"
   ]
  },
  {
   "cell_type": "code",
   "execution_count": 75,
   "metadata": {},
   "outputs": [
    {
     "ename": "TypeError",
     "evalue": "'tuple' object does not support item assignment",
     "output_type": "error",
     "traceback": [
      "\u001b[0;31m---------------------------------------------------------------------------\u001b[0m",
      "\u001b[0;31mTypeError\u001b[0m                                 Traceback (most recent call last)",
      "\u001b[0;32m<ipython-input-75-b93732cb4a3d>\u001b[0m in \u001b[0;36m<module>\u001b[0;34m\u001b[0m\n\u001b[0;32m----> 1\u001b[0;31m \u001b[0mmy_tuple\u001b[0m\u001b[0;34m[\u001b[0m\u001b[0;36m0\u001b[0m\u001b[0;34m]\u001b[0m \u001b[0;34m=\u001b[0m \u001b[0;36m123\u001b[0m  \u001b[0;31m# не дает нам изменить себя\u001b[0m\u001b[0;34m\u001b[0m\u001b[0;34m\u001b[0m\u001b[0m\n\u001b[0m",
      "\u001b[0;31mTypeError\u001b[0m: 'tuple' object does not support item assignment"
     ]
    }
   ],
   "source": [
    "my_tuple[0] = 123  # не дает нам изменить себя "
   ]
  },
  {
   "cell_type": "markdown",
   "metadata": {},
   "source": [
    "#### tuple используются для неизменяемых данных задаваемых один раз и на все время работы программы"
   ]
  },
  {
   "cell_type": "code",
   "execution_count": 76,
   "metadata": {},
   "outputs": [
    {
     "data": {
      "text/plain": [
       "(True, 'some_string', 1.05)"
      ]
     },
     "execution_count": 76,
     "metadata": {},
     "output_type": "execute_result"
    }
   ],
   "source": [
    "my_tuple[2:]  # срезы при этом работают в tuple так же, как и в list"
   ]
  },
  {
   "cell_type": "code",
   "execution_count": 78,
   "metadata": {},
   "outputs": [
    {
     "data": {
      "text/plain": [
       "('some_elem',)"
      ]
     },
     "execution_count": 78,
     "metadata": {},
     "output_type": "execute_result"
    }
   ],
   "source": [
    "# на всякий случай кортеж из одного элемента обьявляется так:\n",
    "one_elem_tuple = ('some_elem', )\n",
    "one_elem_tuple"
   ]
  },
  {
   "cell_type": "code",
   "execution_count": 82,
   "metadata": {},
   "outputs": [
    {
     "data": {
      "text/plain": [
       "([1, 123, 3],)"
      ]
     },
     "execution_count": 82,
     "metadata": {},
     "output_type": "execute_result"
    }
   ],
   "source": [
    "# не смотря на то что tuple не изменяемый\n",
    "# в нем можно хранить изменяемые типы\n",
    "tuple_with_list = ([1, 2, 3], )\n",
    "tuple_with_list[0][1] = 123  # изменим 1 элемент списка внутри tuple\n",
    "tuple_with_list"
   ]
  },
  {
   "cell_type": "markdown",
   "metadata": {},
   "source": [
    "## Работа со словарями (dict)"
   ]
  },
  {
   "cell_type": "code",
   "execution_count": 84,
   "metadata": {},
   "outputs": [
    {
     "data": {
      "text/plain": [
       "True"
      ]
     },
     "execution_count": 84,
     "metadata": {},
     "output_type": "execute_result"
    }
   ],
   "source": [
    "# создадим словарь\n",
    "# словарь множество пар ключ:значение \n",
    "my_dict = {'a': 123, 'some_key': 1.05, (1, 2, 3): True}\n",
    " # так как tuple не изменяемый он может быть ключом "
   ]
  },
  {
   "cell_type": "code",
   "execution_count": 85,
   "metadata": {},
   "outputs": [
    {
     "data": {
      "text/plain": [
       "1.05"
      ]
     },
     "execution_count": 85,
     "metadata": {},
     "output_type": "execute_result"
    }
   ],
   "source": [
    "# получим значение из словаря по ключу\n",
    "my_dict['some_key']"
   ]
  },
  {
   "cell_type": "code",
   "execution_count": 87,
   "metadata": {},
   "outputs": [
    {
     "data": {
      "text/plain": [
       "{'a': ['New value', 0, 1], 'some_key': 1.05, (1, 2, 3): True}"
      ]
     },
     "execution_count": 87,
     "metadata": {},
     "output_type": "execute_result"
    }
   ],
   "source": [
    "# изменим значение по ключу\n",
    "my_dict['a'] = ['New value', 0, 1]\n",
    "my_dict"
   ]
  },
  {
   "cell_type": "code",
   "execution_count": 91,
   "metadata": {},
   "outputs": [
    {
     "name": "stdout",
     "output_type": "stream",
     "text": [
      "dict_keys(['a', 'some_key', (1, 2, 3)])\n",
      "dict_values([['New value', 0, 1], 1.05, True])\n"
     ]
    }
   ],
   "source": [
    "# получим все ключи и все значения\n",
    "print(my_dict.keys())  # все ключи словаря\n",
    "print(my_dict.values())  # все значения в словаре\n",
    "# ключи в словаре не упорядочены как в списке !!!"
   ]
  },
  {
   "cell_type": "code",
   "execution_count": null,
   "metadata": {},
   "outputs": [],
   "source": []
  }
 ],
 "metadata": {
  "kernelspec": {
   "display_name": "Python 3",
   "language": "python",
   "name": "python3"
  },
  "language_info": {
   "codemirror_mode": {
    "name": "ipython",
    "version": 3
   },
   "file_extension": ".py",
   "mimetype": "text/x-python",
   "name": "python",
   "nbconvert_exporter": "python",
   "pygments_lexer": "ipython3",
   "version": "3.8.6"
  }
 },
 "nbformat": 4,
 "nbformat_minor": 4
}
